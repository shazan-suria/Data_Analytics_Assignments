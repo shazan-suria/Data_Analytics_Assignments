{
 "cells": [
  {
   "cell_type": "markdown",
   "id": "708786d8-6ec1-493f-a782-96819f7d4884",
   "metadata": {},
   "source": [
    "# Python OOPs Questions"
   ]
  },
  {
   "cell_type": "markdown",
   "id": "53a5bea2-8564-4398-8b7f-d1ef46d5aa98",
   "metadata": {},
   "source": [
    "## 1.What is Object-Oriented Programming (OOP)?"
   ]
  },
  {
   "cell_type": "code",
   "execution_count": 1,
   "id": "8ad09454-1f61-4516-b458-c6dc3423f807",
   "metadata": {},
   "outputs": [
    {
     "name": "stdout",
     "output_type": "stream",
     "text": [
      "Buddy says Woof!\n",
      "Whiskers says Meow!\n"
     ]
    }
   ],
   "source": [
    "# Object-Oriented Programming (OOP) is a programming paradigm that revolves around the concept of \"objects,\"\n",
    "# which are instances of classes. A class defines a blueprint for an object, \n",
    "# and an object is an instance of a class with specific attributes and behaviors.\n",
    "\n",
    "# Here are the key principles of OOP in the context of Python:\n",
    "\n",
    "# Classes and Objects:\n",
    "\n",
    "# Class: A blueprint for creating objects (a particular data structure), with attributes (variables) and methods (functions).\n",
    "\n",
    "# Object: An instance of a class with unique data.\n",
    "\n",
    "# Encapsulation:\n",
    "\n",
    "# The process of wrapping data (variables) and code (methods) together as a single unit. It helps in keeping the data safe from outside interference and misuse.\n",
    "\n",
    "# Inheritance:\n",
    "\n",
    "# A mechanism where a new class inherits properties and behavior (methods) from an existing class. This promotes code reusability.\n",
    "# The new class is called a derived (child) class, and the one from which it inherits is the base (parent) class.\n",
    "\n",
    "# Polymorphism:\n",
    "\n",
    "# The ability to use a common interface for multiple forms (data types).\n",
    "# It allows functions/methods to use objects of different types at different times.\n",
    "\n",
    "# Abstraction:\n",
    "\n",
    "# Hiding the complex implementation details and showing only the necessary features of an object.\n",
    "# It helps in reducing programming complexity and effort.\n",
    "\n",
    "# Example:\n",
    "class Animal:\n",
    "    def __init__(self, name):\n",
    "        self.name = name\n",
    "    \n",
    "    def speak(self):\n",
    "        pass\n",
    "\n",
    "class Dog(Animal):\n",
    "    def speak(self):\n",
    "        return f\"{self.name} says Woof!\"\n",
    "\n",
    "class Cat(Animal):\n",
    "    def speak(self):\n",
    "        return f\"{self.name} says Meow!\"\n",
    "\n",
    "dog = Dog(\"Buddy\")\n",
    "cat = Cat(\"Whiskers\")\n",
    "\n",
    "print(dog.speak())  # Output: Buddy says Woof!\n",
    "print(cat.speak())  # Output: Whiskers says Meow!"
   ]
  },
  {
   "cell_type": "markdown",
   "id": "8932c0c7-40eb-49f0-a99e-0e0d812cba41",
   "metadata": {},
   "source": [
    "## 2. What is a class in OOP?"
   ]
  },
  {
   "cell_type": "code",
   "execution_count": 2,
   "id": "b9764224-d60e-433f-8228-822fa59897c5",
   "metadata": {},
   "outputs": [
    {
     "name": "stdout",
     "output_type": "stream",
     "text": [
      "Toyota\n",
      "Corolla\n",
      "2020\n",
      "Toyota Corolla is starting.\n",
      "Toyota Corolla is stopping.\n"
     ]
    }
   ],
   "source": [
    "# In Object-Oriented Programming (OOP), a class is a blueprint or template for creating objects.\n",
    "# A class defines a set of attributes (variables) and methods (functions) that the objects created from the class will have.\n",
    "# Essentially, a class encapsulates data and behavior that objects will inherit.\n",
    "\n",
    "# Key Components of a Class:\n",
    "\n",
    "# Attributes (Fields):\n",
    "# These are the data or properties of the class. \n",
    "# For example, in a Car class, attributes could include color, make, model, and year.\n",
    "\n",
    "# Methods:\n",
    "# These are functions that define the behaviors of the class.\n",
    "# For example, in a Car class, methods could include start(), stop(), and accelerate().\n",
    "\n",
    "# Example :\n",
    "\n",
    "class Car:\n",
    "    def __init__(self, make, model, year):\n",
    "        self.make = make\n",
    "        self.model = model\n",
    "        self.year = year\n",
    "    \n",
    "    def start(self):\n",
    "        print(f\"{self.make} {self.model} is starting.\")\n",
    "    \n",
    "    def stop(self):\n",
    "        print(f\"{self.make} {self.model} is stopping.\")\n",
    "\n",
    "# Creating an object (instance) of the Car class\n",
    "my_car = Car(\"Toyota\", \"Corolla\", 2020)\n",
    "\n",
    "# Accessing attributes and methods\n",
    "print(my_car.make)   # Output: Toyota\n",
    "print(my_car.model)  # Output: Corolla\n",
    "print(my_car.year)   # Output: 2020\n",
    "\n",
    "my_car.start()  # Output: Toyota Corolla is starting.\n",
    "my_car.stop()   # Output: Toyota Corolla is stopping."
   ]
  },
  {
   "cell_type": "markdown",
   "id": "91e2f001-0d55-4828-8630-f2f3ff31627b",
   "metadata": {},
   "source": [
    "## 3. What is an object in OOP?"
   ]
  },
  {
   "cell_type": "code",
   "execution_count": 3,
   "id": "fb8c99a6-03cc-4344-b232-b470273b15a4",
   "metadata": {},
   "outputs": [
    {
     "name": "stdout",
     "output_type": "stream",
     "text": [
      "Toyota\n",
      "Corolla\n",
      "2020\n",
      "Toyota Corolla is starting.\n",
      "Toyota Corolla is stopping.\n"
     ]
    }
   ],
   "source": [
    "# In Object-Oriented Programming (OOP), an object is an instance of a class. \n",
    "# It is a concrete entity that has a unique identity, a state (attributes), and behaviors (methods).\n",
    "# Objects are the fundamental building blocks of an OOP system, and they interact with each other through methods.\n",
    "\n",
    "# Key Characteristics of an Object:\n",
    "\n",
    "# Identity: Every object has a unique identifier that distinguishes it from other objects.\n",
    "\n",
    "# State (Attributes): These are the properties or data held by the object. The state of an object is defined by its attributes, which are usually represented as variables.\n",
    "\n",
    "# Behavior (Methods): These are the actions or operations that the object can perform, defined by methods in the class.\n",
    "\n",
    "# Example:\n",
    "class Car:\n",
    "    def __init__(self, make, model, year):\n",
    "        self.make = make\n",
    "        self.model = model\n",
    "        self.year = year\n",
    "    \n",
    "    def start(self):\n",
    "        print(f\"{self.make} {self.model} is starting.\")\n",
    "    \n",
    "    def stop(self):\n",
    "        print(f\"{self.make} {self.model} is stopping.\")\n",
    "\n",
    "# Creating an object (instance) of the Car class\n",
    "my_car = Car(\"Toyota\", \"Corolla\", 2020)\n",
    "\n",
    "# Accessing attributes and methods\n",
    "print(my_car.make)   # Output: Toyota\n",
    "print(my_car.model)  # Output: Corolla\n",
    "print(my_car.year)   # Output: 2020\n",
    "\n",
    "my_car.start()  # Output: Toyota Corolla is starting.\n",
    "my_car.stop()   # Output: Toyota Corolla is stopping.\n"
   ]
  },
  {
   "cell_type": "markdown",
   "id": "a91f000c-71b0-4eef-9a2b-d9458415f81d",
   "metadata": {},
   "source": [
    "# 4. What is the difference between abstraction and encapsulation?"
   ]
  },
  {
   "cell_type": "code",
   "execution_count": 4,
   "id": "1f02a09e-491c-4590-874a-87d4d72447d6",
   "metadata": {},
   "outputs": [
    {
     "name": "stdout",
     "output_type": "stream",
     "text": [
      "1000\n",
      "1500\n",
      "1300\n"
     ]
    }
   ],
   "source": [
    "# Abstraction:\n",
    "\n",
    "# Purpose:\n",
    "\n",
    "# Abstraction is about hiding the complexity of a system by providing a simplified interface. \n",
    "# It focuses on what an object does rather than how it does it.\n",
    "\n",
    "# How It Works: \n",
    "# Abstraction involves creating simple, easy-to-use representations of more complex underlying code. \n",
    "# It allows programmers to work with high-level concepts without worrying about low-level details.\n",
    "\n",
    "# Example:\n",
    "# In a car, you use a steering wheel, pedals, and buttons to control the vehicle without\n",
    "# needing to understand the internal mechanics of the engine or transmission. \n",
    "# In programming, interfaces and abstract classes are common ways to achieve abstraction.\n",
    "\n",
    "# Encapsulation:\n",
    "\n",
    "# Purpose:\n",
    "# Encapsulation is about bundling the data (attributes) and the methods (functions) that operate on that\n",
    "# data into a single unit (a class) and restricting access to some of the object's components.\n",
    "# It helps in protecting the data from outside interference and misuse.\n",
    "\n",
    "# How It Works: \n",
    "# Encapsulation is implemented through access modifiers (like private, protected, and public in languages such as Java or C++).\n",
    "# In Python, encapsulation is achieved through conventions (like prefixing attributes with underscores) and property decorators.\n",
    "\n",
    "# Example:\n",
    "# In a class representing a bank account, the balance attribute might be private,\n",
    "# and access to it would be controlled through public methods like deposit and withdraw.\n",
    "# This ensures that the balance can only be modified in a controlled manner.\n",
    "\n",
    "# Example :\n",
    "\n",
    "class BankAccount:\n",
    "    def __init__(self, account_number, balance):\n",
    "        self.account_number = account_number\n",
    "        self.__balance = balance  # Encapsulation: __balance is private\n",
    "    \n",
    "    def deposit(self, amount):\n",
    "        if amount > 0:\n",
    "            self.__balance += amount\n",
    "            return True\n",
    "        return False\n",
    "    \n",
    "    def withdraw(self, amount):\n",
    "        if 0 < amount <= self.__balance:\n",
    "            self.__balance -= amount\n",
    "            return True\n",
    "        return False\n",
    "    \n",
    "    def get_balance(self):\n",
    "        return self.__balance\n",
    "\n",
    "# Usage\n",
    "account = BankAccount(\"12345678\", 1000)\n",
    "print(account.get_balance())  # Output: 1000\n",
    "\n",
    "account.deposit(500)\n",
    "print(account.get_balance())  # Output: 1500\n",
    "\n",
    "account.withdraw(200)\n",
    "print(account.get_balance())  # Output: 1300"
   ]
  },
  {
   "cell_type": "markdown",
   "id": "29a39e89-75c5-47a9-9ef4-26fd530560a0",
   "metadata": {},
   "source": [
    "## 5. What are dunder methods in Python?"
   ]
  },
  {
   "cell_type": "code",
   "execution_count": 5,
   "id": "b0b49f68-2f43-420c-9852-9434fdf0f396",
   "metadata": {},
   "outputs": [],
   "source": [
    "# In Python, dunder methods (short for \"double underscore methods\") are special methods that have double underscores at the \n",
    "# beginning and end of their names, like __init__ or __str__.\n",
    "# They are also known as \"magic methods\" because they enable the customization of Python's built-in behavior.\n",
    "# Dunder methods allow you to define how objects of your classes behave with respect to various operations like initialization, \n",
    "# representation, comparison, and more.\n",
    "\n",
    "# Example:\n",
    "class Person:\n",
    "    def __init__(self, name, age):\n",
    "        self.name = name\n",
    "        self.age = age"
   ]
  },
  {
   "cell_type": "markdown",
   "id": "9f859c12-8484-4f2d-8700-9415a43b5e9f",
   "metadata": {},
   "source": [
    "## 6. Explain the concept of inheritance in OOP?"
   ]
  },
  {
   "cell_type": "code",
   "execution_count": 6,
   "id": "593d32d3-f36d-4432-be02-7d57e30b7fd2",
   "metadata": {},
   "outputs": [
    {
     "name": "stdout",
     "output_type": "stream",
     "text": [
      "Father's property\n",
      "Mother's property\n",
      "Child's property\n"
     ]
    }
   ],
   "source": [
    "# Inheritance is a fundamental concept in Object-Oriented Programming (OOP) that allows a class to inherit properties\n",
    "# and behaviors (methods) from another class.\n",
    "# The primary aim of inheritance is to promote code reusability and establish a relationship between classes.\n",
    "\n",
    "# Key Concepts of Inheritance:\n",
    "\n",
    "# Base Class (Parent Class/Superclass):\n",
    "\n",
    "# The class whose properties and methods are inherited by another class.\n",
    "\n",
    "# Derived Class (Child Class/Subclass):\n",
    "\n",
    "# The class that inherits properties and methods from the base class.\n",
    "\n",
    "# Reusability:\n",
    "\n",
    "# Inheritance allows the derived class to reuse the methods and attributes of the base class, reducing code duplication.\n",
    "\n",
    "# Override:\n",
    "\n",
    "# The derived class can override methods of the base class to provide specific implementation.\n",
    "\n",
    "# Extend:\n",
    "\n",
    "# The derived class can add new methods and attributes that are not present in the base class.\n",
    "\n",
    "# Types of Inheritance:\n",
    "\n",
    "# Single Inheritance: A derived class inherits from a single base class.\n",
    "\n",
    "# Multiple Inheritance: A derived class inherits from more than one base class.\n",
    "\n",
    "# Multilevel Inheritance: A derived class is a base class for another derived class.\n",
    "\n",
    "# Hierarchical Inheritance: Multiple derived classes inherit from a single base class.\n",
    "\n",
    "# Hybrid Inheritance: A combination of multiple inheritance and other inheritance types.\n",
    "\n",
    "class Father:\n",
    "    def show_father(self):\n",
    "        return \"Father's property\"\n",
    "\n",
    "class Mother:\n",
    "    def show_mother(self):\n",
    "        return \"Mother's property\"\n",
    "\n",
    "class Child(Father, Mother):\n",
    "    def show_child(self):\n",
    "        return \"Child's property\"\n",
    "\n",
    "child = Child()\n",
    "print(child.show_father())   # Output: Father's property\n",
    "print(child.show_mother())   # Output: Mother's property\n",
    "print(child.show_child())    # Output: Child's property"
   ]
  },
  {
   "cell_type": "markdown",
   "id": "5a464a48-dbee-47e9-bb91-cf90197ce907",
   "metadata": {},
   "source": [
    "## 7. What is polymorphism in OOP?"
   ]
  },
  {
   "cell_type": "code",
   "execution_count": 7,
   "id": "39ae3d8c-96f3-47cb-badb-2178c842e1a2",
   "metadata": {},
   "outputs": [
    {
     "name": "stdout",
     "output_type": "stream",
     "text": [
      "6\n",
      "Woof!\n",
      "Meow!\n"
     ]
    }
   ],
   "source": [
    "# Polymorphism is a key concept in Object-Oriented Programming (OOP)\n",
    "# that allows objects of different classes to be treated as objects of a common super class.\n",
    "# It enables a single function, method, or operator to work in different ways based on the object it is acting upon.\n",
    "# The term polymorphism is derived from the Greek words \"poly\" meaning \"many\" and \"morph\" meaning \"forms,\" \n",
    "# indicating the ability to take many forms.\n",
    "\n",
    "# Types of Polymorphism:\n",
    "\n",
    "# Compile-Time Polymorphism (Static Binding):\n",
    "\n",
    "# Achieved through method overloading and operator overloading. \n",
    "# The decision about which method to invoke is made at compile-time.\n",
    "\n",
    "# Runtime Polymorphism (Dynamic Binding):\n",
    "\n",
    "# Achieved through method overriding. The decision about which method to invoke is made at runtime based on the object's actual type.\n",
    "\n",
    "# Example of Method Overloading (Compile-Time Polymorphism):\n",
    "class MathOperations:\n",
    "    def add(self, a, b):\n",
    "        return a + b\n",
    "    \n",
    "    def add(self, a, b, c):\n",
    "        return a + b + c\n",
    "\n",
    "# Usage\n",
    "math_op = MathOperations()\n",
    "\n",
    "# Only the last method defined will be used, earlier definitions are overridden\n",
    "# print(math_op.add(1, 2)) # This will give an error because the second method replaces the first one\n",
    "print(math_op.add(1, 2, 3))  # Output: 6\n",
    "\n",
    "# Python does not support method overloading by default.\n",
    "# However, we can achieve similar behavior by using default parameters or variable-length arguments.\n",
    "\n",
    "# Example of Method Overriding (Runtime Polymorphism):\n",
    "\n",
    "class Animal:\n",
    "    def speak(self):\n",
    "        return \"Some generic sound\"\n",
    "\n",
    "class Dog(Animal):\n",
    "    def speak(self):\n",
    "        return \"Woof!\"\n",
    "\n",
    "class Cat(Animal):\n",
    "    def speak(self):\n",
    "        return \"Meow!\"\n",
    "\n",
    "# Usage\n",
    "def make_animal_speak(animal):\n",
    "    print(animal.speak())\n",
    "\n",
    "dog = Dog()\n",
    "cat = Cat()\n",
    "\n",
    "make_animal_speak(dog)  # Output: Woof!\n",
    "make_animal_speak(cat)  # Output: Meow!"
   ]
  },
  {
   "cell_type": "markdown",
   "id": "cf23cb7a-1c6a-45c2-9be6-45c2c1c6bfb6",
   "metadata": {},
   "source": [
    "## 8. How is encapsulation achieved in Python?"
   ]
  },
  {
   "cell_type": "code",
   "execution_count": 8,
   "id": "09cc7e9c-b78e-4822-8bd2-0b2c41a6afd3",
   "metadata": {},
   "outputs": [
    {
     "name": "stdout",
     "output_type": "stream",
     "text": [
      "12345678\n",
      "1000\n",
      "1500\n"
     ]
    }
   ],
   "source": [
    "# Encapsulation in Python is achieved through the use of classes,\n",
    "# where data (attributes) and methods (functions) are bundled together. \n",
    "# The primary goal of encapsulation is to restrict direct access to some of an object's components, \n",
    "# which can help prevent accidental modification of data.\n",
    "\n",
    "# How Encapsulation Works:\n",
    "\n",
    "# 1. Attributes with Access Modifiers:\n",
    "\n",
    "# In Python, there are conventions to indicate the level of access for class attributes:\n",
    "\n",
    "# Public Attributes: Accessible from outside the class. Typically, these have no leading underscores.\n",
    "\n",
    "# Protected Attributes: Intended to be used within the class and its subclasses. Indicated by a single leading underscore (e.g., _attribute).\n",
    "\n",
    "# Private Attributes: Intended to be hidden from outside access. Indicated by two leading underscores (e.g., __attribute).\n",
    "\n",
    "# 2. Getter and Setter Methods:\n",
    "\n",
    "# These methods are used to control access to private attributes.\n",
    "# A getter method returns the value of the attribute, and a setter method allows you to set the value of the attribute \n",
    "# after validating it.\n",
    "\n",
    "# Example:\n",
    "class BankAccount:\n",
    "    def __init__(self, account_number, balance):\n",
    "        self.account_number = account_number  # Public attribute\n",
    "        self.__balance = balance  # Private attribute\n",
    "\n",
    "    def get_balance(self):\n",
    "        return self.__balance\n",
    "\n",
    "    def set_balance(self, amount):\n",
    "        if amount >= 0:\n",
    "            self.__balance = amount\n",
    "        else:\n",
    "            print(\"Invalid amount. Balance cannot be negative.\")\n",
    "\n",
    "# Creating an instance of BankAccount\n",
    "account = BankAccount(\"12345678\", 1000)\n",
    "\n",
    "# Accessing public attribute\n",
    "print(account.account_number)  # Output: 12345678\n",
    "\n",
    "# Accessing private attribute through getter method\n",
    "print(account.get_balance())  # Output: 1000\n",
    "\n",
    "# Modifying private attribute through setter method\n",
    "account.set_balance(1500)\n",
    "print(account.get_balance())  # Output: 1500\n",
    "\n",
    "# Attempting to access private attribute directly (will raise an AttributeError)\n",
    "# print(account.__balance)  # Uncommenting this line will raise an AttributeError\n"
   ]
  },
  {
   "cell_type": "markdown",
   "id": "1644e43d-2bf6-478a-b80b-a64eb8ae76bb",
   "metadata": {},
   "source": [
    "## 9. What is a constructor in Python?"
   ]
  },
  {
   "cell_type": "code",
   "execution_count": 9,
   "id": "2562dacd-ea2b-4461-b392-e7210e0606b9",
   "metadata": {},
   "outputs": [
    {
     "name": "stdout",
     "output_type": "stream",
     "text": [
      "Alice\n",
      "30\n",
      "Alice is 30 years old.\n"
     ]
    }
   ],
   "source": [
    "# In Python, a constructor is a special method that is called automatically when an instance of a class is created. \n",
    "# The purpose of a constructor is to initialize the object's attributes and perform any setup or initialization required.\n",
    "\n",
    "# The __init__ Method:\n",
    "\n",
    "# The constructor method in Python is called __init__.\n",
    "# The __init__ method is defined within a class and typically takes self as its first parameter,\n",
    "# followed by any other parameters needed to initialize the object.\n",
    "\n",
    "# Example:\n",
    "class Person:\n",
    "    def __init__(self, name, age):\n",
    "        self.name = name\n",
    "        self.age = age\n",
    "    \n",
    "    def display(self):\n",
    "        return f\"{self.name} is {self.age} years old.\"\n",
    "\n",
    "# Creating an instance of the Person class\n",
    "person1 = Person(\"Alice\", 30)\n",
    "\n",
    "# Accessing attributes and methods\n",
    "print(person1.name)   # Output: Alice\n",
    "print(person1.age)    # Output: 30\n",
    "print(person1.display())  # Output: Alice is 30 years old."
   ]
  },
  {
   "cell_type": "markdown",
   "id": "f704e7dc-e041-411e-92a1-2b45210eac8f",
   "metadata": {},
   "source": [
    "## 10. What are class and static methods in Python?"
   ]
  },
  {
   "cell_type": "code",
   "execution_count": 10,
   "id": "5c6d9837-c1f3-40e2-8d96-6a09975e5fae",
   "metadata": {},
   "outputs": [
    {
     "name": "stdout",
     "output_type": "stream",
     "text": [
      "2\n",
      "8\n",
      "15\n"
     ]
    }
   ],
   "source": [
    "# Class Methods:\n",
    "\n",
    "# Definition: \n",
    "\n",
    "# Class methods are methods that are bound to the class and not the instance of the class. \n",
    "# They can modify the class state that applies across all instances of the class.\n",
    "\n",
    "# Decorator: @classmethod\n",
    "\n",
    "# First Parameter: The first parameter is cls, which refers to the class itself, not the instance.\n",
    "\n",
    "# Example of a Class Method:\n",
    "\n",
    "class MyClass:\n",
    "    class_variable = 0\n",
    "\n",
    "    def __init__(self, value):\n",
    "        self.instance_variable = value\n",
    "        MyClass.class_variable += 1\n",
    "\n",
    "    @classmethod\n",
    "    def get_class_variable(cls):\n",
    "        return cls.class_variable\n",
    "\n",
    "# Creating instances\n",
    "obj1 = MyClass(10)\n",
    "obj2 = MyClass(20)\n",
    "\n",
    "# Accessing class method\n",
    "print(MyClass.get_class_variable())  # Output: 2\n",
    "\n",
    "# Static Methods:\n",
    "\n",
    "# Definition:\n",
    "# Static methods are methods that belong to a class but do not modify the class state or instance state. \n",
    "# They are utility functions that perform a task in isolation.\n",
    "\n",
    "# Decorator: @staticmethod\n",
    "\n",
    "# First Parameter: Static methods do not take self or cls as the first parameter because they do not operate on the instance or class.\n",
    "\n",
    "# Example of a Static Method:\n",
    "\n",
    "class MathOperations:\n",
    "    @staticmethod\n",
    "    def add(a, b):\n",
    "        return a + b\n",
    "\n",
    "    @staticmethod\n",
    "    def multiply(a, b):\n",
    "        return a * b\n",
    "\n",
    "# Accessing static methods\n",
    "print(MathOperations.add(5, 3))       # Output: 8\n",
    "print(MathOperations.multiply(5, 3))  # Output: 15"
   ]
  },
  {
   "cell_type": "markdown",
   "id": "314307fc-d157-4997-b9e9-d1516c0da3d9",
   "metadata": {},
   "source": [
    "## 11. What is method overloading in Python?"
   ]
  },
  {
   "cell_type": "code",
   "execution_count": 11,
   "id": "18148fee-9967-46cd-acca-08376dd5f6a1",
   "metadata": {},
   "outputs": [
    {
     "name": "stdout",
     "output_type": "stream",
     "text": [
      "3\n",
      "6\n",
      "3\n",
      "10\n"
     ]
    }
   ],
   "source": [
    "# Method overloading in Python refers to the ability to define multiple methods with the same name but different parameters. \n",
    "# However, unlike some other programming languages, Python does not support method overloading in the traditional sense\n",
    "# where you can define multiple methods with the same name but different signatures within the same class.\n",
    "\n",
    "# In Python, the most recent method definition with the same name will override the previous ones.\n",
    "# Instead, method overloading can be achieved using default arguments or variable-length arguments (*args and **kwargs).\n",
    "\n",
    "# Example Using Default Arguments:\n",
    "\n",
    "class MathOperations:\n",
    "    def add(self, a, b, c=0):\n",
    "        return a + b + c\n",
    "\n",
    "# Usage\n",
    "math_op = MathOperations()\n",
    "print(math_op.add(1, 2))     # Output: 3\n",
    "print(math_op.add(1, 2, 3))  # Output: 6\n",
    "\n",
    "# Example Using Variable-Length Arguments (*args):\n",
    "\n",
    "class MathOperations:\n",
    "    def add(self, *args):\n",
    "        return sum(args)\n",
    "\n",
    "# Usage\n",
    "math_op = MathOperations()\n",
    "print(math_op.add(1, 2))         # Output: 3\n",
    "print(math_op.add(1, 2, 3, 4))   # Output: 10"
   ]
  },
  {
   "cell_type": "markdown",
   "id": "a809ddf9-c362-4ca6-bf5d-f3a6b7b48535",
   "metadata": {},
   "source": [
    "## 12. What is method overriding in OOP?"
   ]
  },
  {
   "cell_type": "code",
   "execution_count": 12,
   "id": "c48722c0-db23-4730-a60a-f3fcfdb6a80f",
   "metadata": {},
   "outputs": [
    {
     "name": "stdout",
     "output_type": "stream",
     "text": [
      "Woof!\n",
      "Meow!\n"
     ]
    }
   ],
   "source": [
    "# Method overriding is a feature in Object-Oriented Programming (OOP)\n",
    "# that allows a subclass to provide a specific implementation for a method that is already defined in its superclass. \n",
    "# This enables a subclass to inherit the method from the superclass, but modify its behavior to suit its own needs.\n",
    "\n",
    "# Key Points of Method Overriding:\n",
    "\n",
    "# Same Method Signature: The method in the subclass must have the same name, return type, and parameters as the method in the superclass.\n",
    "\n",
    "# Inheritance: Method overriding is only possible when there is an inheritance relationship between classes.\n",
    "\n",
    "# Polymorphism: Method overriding enables runtime polymorphism, allowing the appropriate method to be called based on the object type at runtime.\n",
    "\n",
    "# Example :\n",
    "\n",
    "class Animal:\n",
    "    def speak(self):\n",
    "        return \"Some generic sound\"\n",
    "\n",
    "class Dog(Animal):\n",
    "    def speak(self):\n",
    "        return \"Woof!\"\n",
    "\n",
    "class Cat(Animal):\n",
    "    def speak(self):\n",
    "        return \"Meow!\"\n",
    "\n",
    "# Creating objects of subclasses\n",
    "dog = Dog()\n",
    "cat = Cat()\n",
    "\n",
    "# Calling the overridden methods\n",
    "print(dog.speak())  # Output: Woof!\n",
    "print(cat.speak())  # Output: Meow!"
   ]
  },
  {
   "cell_type": "markdown",
   "id": "7b85bf2c-a53f-47c3-b384-63d5949326ef",
   "metadata": {},
   "source": [
    "## 13. What is a property decorator in Python?"
   ]
  },
  {
   "cell_type": "code",
   "execution_count": 13,
   "id": "3612eb8e-bd74-4918-b9ed-8b1d81983557",
   "metadata": {},
   "outputs": [
    {
     "name": "stdout",
     "output_type": "stream",
     "text": [
      "Alice\n",
      "30\n",
      "Bob\n",
      "35\n"
     ]
    }
   ],
   "source": [
    "# In Python, a property decorator (@property) is a built-in decorator that allows you to define methods that can be accessed like attributes.\n",
    "# It is used to create managed attributes in a class, providing a way to encapsulate and control access to instance variables.\n",
    "# This can be useful for validating or processing data before it's assigned to or retrieved from an attribute.\n",
    "\n",
    "# How Property Decorators Work:\n",
    "\n",
    "# Getter Method: The @property decorator is used to define a getter method, which retrieves the value of an attribute.\n",
    "\n",
    "# Setter Method: The @attribute_name.setter decorator is used to define a setter method, which sets the value of an attribute.\n",
    "\n",
    "# Deleter Method: The @attribute_name.deleter decorator is used to define a deleter method, which deletes an attribute.\n",
    "\n",
    "# Example Using Property Decorators:\n",
    "\n",
    "class Person:\n",
    "    def __init__(self, name, age):\n",
    "        self._name = name\n",
    "        self._age = age\n",
    "    \n",
    "    @property\n",
    "    def name(self):\n",
    "        return self._name\n",
    "    \n",
    "    @name.setter\n",
    "    def name(self, value):\n",
    "        if isinstance(value, str) and value.strip():\n",
    "            self._name = value\n",
    "        else:\n",
    "            raise ValueError(\"Name must be a non-empty string.\")\n",
    "    \n",
    "    @property\n",
    "    def age(self):\n",
    "        return self._age\n",
    "    \n",
    "    @age.setter\n",
    "    def age(self, value):\n",
    "        if isinstance(value, int) and value > 0:\n",
    "            self._age = value\n",
    "        else:\n",
    "            raise ValueError(\"Age must be a positive integer.\")\n",
    "    \n",
    "    @age.deleter\n",
    "    def age(self):\n",
    "        del self._age\n",
    "\n",
    "# Creating an instance of Person\n",
    "person = Person(\"Alice\", 30)\n",
    "\n",
    "# Accessing the name and age properties\n",
    "print(person.name)  # Output: Alice\n",
    "print(person.age)   # Output: 30\n",
    "\n",
    "# Setting the name and age properties\n",
    "person.name = \"Bob\"\n",
    "person.age = 35\n",
    "\n",
    "print(person.name)  # Output: Bob\n",
    "print(person.age)   # Output: 35\n",
    "\n",
    "# Attempting to set invalid values\n",
    "# person.name = \"\"  # Raises ValueError: Name must be a non-empty string.\n",
    "# person.age = -5   # Raises ValueError: Age must be a positive integer.\n",
    "\n",
    "# Deleting the age attribute\n",
    "del person.age"
   ]
  },
  {
   "cell_type": "markdown",
   "id": "64fdf08b-eb53-44c9-b568-55a26af4eecc",
   "metadata": {},
   "source": [
    "## 14. Why is polymorphism important in OOP?"
   ]
  },
  {
   "cell_type": "code",
   "execution_count": 14,
   "id": "ca44d6ce-32e5-4842-a963-38de09644392",
   "metadata": {},
   "outputs": [
    {
     "name": "stdout",
     "output_type": "stream",
     "text": [
      "Woof!\n",
      "Meow!\n"
     ]
    }
   ],
   "source": [
    "# Polymorphism is a fundamental concept in Object-Oriented Programming (OOP) that plays a crucial role in designing flexible \n",
    "# and scalable systems. Here are some of the key reasons why polymorphism is important in OOP:\n",
    "\n",
    "# Key Benefits of Polymorphism:\n",
    "\n",
    "# Code Reusability:\n",
    "\n",
    "# Polymorphism promotes code reuse by allowing the same interface to be used for different underlying forms (data types).\n",
    "# This reduces code duplication and improves maintainability.\n",
    "\n",
    "# Flexibility and Extensibility:-\n",
    "# Polymorphism enables systems to be more flexible and easily extensible.\n",
    "# New classes can be added with little or no changes to existing code, facilitating easier maintenance and scalability.\n",
    "\n",
    "# Dynamic Method Binding (Runtime Polymorphism):-\n",
    "# Polymorphism allows for dynamic method binding, where the method to be invoked is determined at runtime based\n",
    "# on the actual object's type. This enhances the capability to design systems that can handle various objects uniformly.\n",
    "\n",
    "# Interface Implementation:-\n",
    "# It allows different classes to implement the same interface, enabling the creation of systems where objects\n",
    "# of various types can be treated uniformly. This is particularly useful in designing frameworks and libraries.\n",
    "\n",
    "# Improved Readability and Maintainability:-\n",
    "# Polymorphism helps in writing cleaner and more readable code by\n",
    "# abstracting the implementation details. This makes the code easier to understand and maintain.\n",
    "\n",
    "# Example :\n",
    "\n",
    "class Animal:\n",
    "    def speak(self):\n",
    "        raise NotImplementedError(\"Subclass must implement abstract method\")\n",
    "\n",
    "class Dog(Animal):\n",
    "    def speak(self):\n",
    "        return \"Woof!\"\n",
    "\n",
    "class Cat(Animal):\n",
    "    def speak(self):\n",
    "        return \"Meow!\"\n",
    "\n",
    "# Function that takes an Animal object and calls its speak method\n",
    "def make_animal_speak(animal):\n",
    "    print(animal.speak())\n",
    "\n",
    "# Creating instances of Dog and Cat\n",
    "dog = Dog()\n",
    "cat = Cat()\n",
    "\n",
    "# Demonstrating polymorphism\n",
    "make_animal_speak(dog)  # Output: Woof!\n",
    "make_animal_speak(cat)  # Output: Meow!"
   ]
  },
  {
   "cell_type": "markdown",
   "id": "b456664a-a40a-47a1-a1ac-c0c4af6f803a",
   "metadata": {},
   "source": [
    "## 15. What is an abstract class in Python?"
   ]
  },
  {
   "cell_type": "code",
   "execution_count": 15,
   "id": "ededd126-0d6a-443d-bad1-f4fc5bb7213d",
   "metadata": {},
   "outputs": [
    {
     "name": "stdout",
     "output_type": "stream",
     "text": [
      "Can't instantiate abstract class Animal without an implementation for abstract methods 'move', 'sound'\n",
      "Woof!\n",
      "Runs\n",
      "Meow!\n",
      "Jumps\n"
     ]
    }
   ],
   "source": [
    "# An abstract class in Python is a class that cannot be instantiated on its own and serves as a blueprint for other classes.\n",
    "# Abstract classes are used to define common interfaces for a group of related classes, ensuring that they implement certain methods.\n",
    "# They are particularly useful for enforcing a certain structure in the subclasses, promoting consistency and code reuse.\n",
    "\n",
    "# Key Characteristics of Abstract Classes:-\n",
    "\n",
    "# Cannot Be Instantiated:\n",
    "# An abstract class cannot be instantiated directly. It must be subclassed, and the subclass must implement \n",
    "# the abstract methods before it can be instantiated.\n",
    "\n",
    "# Contains Abstract Methods:-\n",
    "# An abstract class can contain one or more abstract methods.\n",
    "# An abstract method is a method declared in the abstract class but has no implementation. The implementation must be provided by the subclass.\n",
    "\n",
    "# Inheritance:-\n",
    "# Abstract classes provide a way to enforce certain methods in the subclasses, ensuring that they adhere to a specific interface.\n",
    "\n",
    "# How to Define Abstract Classes in Python:-\n",
    "# Abstract classes in Python are defined using the abc module, which stands for Abstract Base Classes.\n",
    "\n",
    "# Example:\n",
    "\n",
    "from abc import ABC, abstractmethod\n",
    "\n",
    "class Animal(ABC):\n",
    "    @abstractmethod\n",
    "    def sound(self):\n",
    "        pass\n",
    "\n",
    "    @abstractmethod\n",
    "    def move(self):\n",
    "        pass\n",
    "\n",
    "class Dog(Animal):\n",
    "    def sound(self):\n",
    "        return \"Woof!\"\n",
    "    \n",
    "    def move(self):\n",
    "        return \"Runs\"\n",
    "\n",
    "class Cat(Animal):\n",
    "    def sound(self):\n",
    "        return \"Meow!\"\n",
    "    \n",
    "    def move(self):\n",
    "        return \"Jumps\"\n",
    "\n",
    "# Attempt to create an instance of the abstract class\n",
    "try:\n",
    "    animal = Animal()\n",
    "except TypeError as e:\n",
    "    print(e)  # Output: Can't instantiate abstract class Animal with abstract methods move, sound\n",
    "\n",
    "# Creating instances of the subclasses\n",
    "dog = Dog()\n",
    "cat = Cat()\n",
    "\n",
    "print(dog.sound())  # Output: Woof!\n",
    "print(dog.move())   # Output: Runs\n",
    "\n",
    "print(cat.sound())  # Output: Meow!\n",
    "print(cat.move())   # Output: Jumps"
   ]
  },
  {
   "cell_type": "markdown",
   "id": "b6981640-395c-461c-8f36-3d8051930380",
   "metadata": {},
   "source": [
    "## 16. What are the advantages of OOP?"
   ]
  },
  {
   "cell_type": "code",
   "execution_count": 16,
   "id": "0a39b0a1-b033-4d4d-8098-56f384c406ca",
   "metadata": {},
   "outputs": [
    {
     "name": "stdout",
     "output_type": "stream",
     "text": [
      "Toyota Corolla, 4 doors\n",
      "Harley-Davidson Street 750, Cruiser motorcycle\n"
     ]
    }
   ],
   "source": [
    "# Key Advantages of OOP:\n",
    "# Modularity:\n",
    "# OOP allows you to break down complex problems into smaller, manageable pieces called classes and objects.\n",
    "# This modularity makes the code easier to understand, maintain, and debug.\n",
    "\n",
    "# Code Reusability:\n",
    "# With inheritance, you can create new classes that reuse, extend,\n",
    "# and modify the behavior defined in existing classes. This reduces code duplication and enhances code reuse.\n",
    "\n",
    "# Encapsulation:\n",
    "# Encapsulation helps in hiding the internal state of an object and exposing only the necessary methods to interact with the object.\n",
    "# This protects the data from outside interference and misuse, ensuring better data security.\n",
    "\n",
    "# Abstraction:\n",
    "# Abstraction allows you to create simple and high-level interfaces for complex systems by hiding unnecessary details. \n",
    "# This makes it easier to work with complex systems by focusing on essential features.\n",
    "\n",
    "# Polymorphism:\n",
    "# Polymorphism enables objects of different classes to be treated as objects of a common superclass.\n",
    "# It allows for dynamic method binding at runtime, meaning the appropriate method is called based on the actual object's type, enhancing flexibility and extensibility.\n",
    "\n",
    "# Maintainability:\n",
    "# OOP promotes the development of maintainable code by organizing it into well-structured classes and objects.\n",
    "# This organization makes it easier to update and extend the codebase over time.\n",
    "\n",
    "# Extensibility:\n",
    "# OOP makes it easy to add new functionality to existing code. New classes can be created to extend the behavior of existing ones without modifying the original code, \n",
    "# reducing the risk of introducing bugs.\n",
    "\n",
    "# Improved Collaboration:\n",
    "# OOP facilitates collaboration among developers by allowing different team members to work on different classes or modules independently. \n",
    "# This division of labor enhances productivity and efficiency in large projects.\n",
    "\n",
    "# Example for Illustration:\n",
    "class Vehicle:\n",
    "    def __init__(self, make, model):\n",
    "        self.make = make\n",
    "        self.model = model\n",
    "\n",
    "    def display_info(self):\n",
    "        return f\"{self.make} {self.model}\"\n",
    "\n",
    "class Car(Vehicle):\n",
    "    def __init__(self, make, model, doors):\n",
    "        super().__init__(make, model)\n",
    "        self.doors = doors\n",
    "\n",
    "    def display_info(self):\n",
    "        return f\"{self.make} {self.model}, {self.doors} doors\"\n",
    "\n",
    "class Motorcycle(Vehicle):\n",
    "    def __init__(self, make, model, type):\n",
    "        super().__init__(make, model)\n",
    "        self.type = type\n",
    "\n",
    "    def display_info(self):\n",
    "        return f\"{self.make} {self.model}, {self.type} motorcycle\"\n",
    "\n",
    "# Creating objects\n",
    "car = Car(\"Toyota\", \"Corolla\", 4)\n",
    "motorcycle = Motorcycle(\"Harley-Davidson\", \"Street 750\", \"Cruiser\")\n",
    "\n",
    "# Accessing methods\n",
    "print(car.display_info())        # Output: Toyota Corolla, 4 doors\n",
    "print(motorcycle.display_info()) # Output: Harley-Davidson Street 750, Cruiser motorcycle\n"
   ]
  },
  {
   "cell_type": "markdown",
   "id": "d6a8093c-cd7e-4bda-92f7-a88f1197c2fb",
   "metadata": {},
   "source": [
    "## 17. What is the difference between a class variable and an instance variable?"
   ]
  },
  {
   "cell_type": "code",
   "execution_count": 17,
   "id": "200d352f-c9b9-468e-89cb-a87429981df3",
   "metadata": {},
   "outputs": [
    {
     "name": "stdout",
     "output_type": "stream",
     "text": [
      "Instance 1\n",
      "Instance 2\n",
      "2\n",
      "2\n",
      "2\n",
      "New Instance 1\n",
      "Instance 2\n",
      "10\n",
      "10\n",
      "10\n"
     ]
    }
   ],
   "source": [
    "# Class Variables:\n",
    "\n",
    "# Shared Across Instances: Class variables are shared by all instances of a class. They are defined within the class but outside any instance methods.\n",
    "\n",
    "# Single Copy: Only one copy of a class variable exists, and all instances of the class reference this single copy.\n",
    "\n",
    "# Modification: Changing the value of a class variable will affect all instances that reference it.\n",
    "\n",
    "# Declaration: Defined using the class name, outside of any methods.\n",
    "\n",
    "\n",
    "# Instance Variables:\n",
    "\n",
    "# Unique to Each Instance: Instance variables are unique to each instance of a class. They are defined within the instance methods, typically within the __init__ method.\n",
    "\n",
    "# Multiple Copies: Each instance of the class has its own copy of the instance variable.\n",
    "\n",
    "# Modification: Changing the value of an instance variable only affects that particular instance.\n",
    "\n",
    "# Declaration: Defined using self, inside the __init__ method or other instance methods.\n",
    "\n",
    "# Example:\n",
    "class MyClass:\n",
    "    # Class variable\n",
    "    class_variable = 0\n",
    "\n",
    "    def __init__(self, instance_variable):\n",
    "        # Instance variable\n",
    "        self.instance_variable = instance_variable\n",
    "        MyClass.class_variable += 1\n",
    "\n",
    "# Creating instances\n",
    "obj1 = MyClass(\"Instance 1\")\n",
    "obj2 = MyClass(\"Instance 2\")\n",
    "\n",
    "# Accessing class and instance variables\n",
    "print(obj1.instance_variable)  # Output: Instance 1\n",
    "print(obj2.instance_variable)  # Output: Instance 2\n",
    "\n",
    "print(MyClass.class_variable)  # Output: 2\n",
    "print(obj1.class_variable)     # Output: 2\n",
    "print(obj2.class_variable)     # Output: 2\n",
    "\n",
    "# Modifying instance variables\n",
    "obj1.instance_variable = \"New Instance 1\"\n",
    "print(obj1.instance_variable)  # Output: New Instance 1\n",
    "print(obj2.instance_variable)  # Output: Instance 2\n",
    "\n",
    "# Modifying class variables\n",
    "MyClass.class_variable = 10\n",
    "print(MyClass.class_variable)  # Output: 10\n",
    "print(obj1.class_variable)     # Output: 10\n",
    "print(obj2.class_variable)     # Output: 10\n"
   ]
  },
  {
   "cell_type": "markdown",
   "id": "ff73235e-278d-4455-a2af-c183aa98ccc9",
   "metadata": {},
   "source": [
    "## 18. What is multiple inheritance in Python?"
   ]
  },
  {
   "cell_type": "code",
   "execution_count": 18,
   "id": "e4d80eb9-9423-47be-897f-fd50f14a05e0",
   "metadata": {},
   "outputs": [
    {
     "name": "stdout",
     "output_type": "stream",
     "text": [
      "Father's property\n",
      "Mother's property\n",
      "Child's property\n"
     ]
    }
   ],
   "source": [
    "# Multiple inheritance is a feature in Object-Oriented Programming (OOP) \n",
    "# where a class can inherit attributes and methods from more than one parent class. \n",
    "# This allows the child class to inherit functionalities from multiple sources, promoting code reuse and flexibility.\n",
    "\n",
    "# Key Points of Multiple Inheritance:\n",
    "\n",
    "# Multiple Base Classes:\n",
    "# A class can inherit from two or more classes, gaining access to their attributes and methods.\n",
    "\n",
    "# Syntax:\n",
    "# Multiple inheritance is specified by listing the parent classes in a comma-separated list within the class definition.\n",
    "\n",
    "# Example of Multiple Inheritance:\n",
    "\n",
    "class Father:\n",
    "    def show_father(self):\n",
    "        return \"Father's property\"\n",
    "\n",
    "class Mother:\n",
    "    def show_mother(self):\n",
    "        return \"Mother's property\"\n",
    "\n",
    "class Child(Father, Mother):\n",
    "    def show_child(self):\n",
    "        return \"Child's property\"\n",
    "\n",
    "# Creating an instance of Child\n",
    "child = Child()\n",
    "\n",
    "# Accessing methods from both parent classes\n",
    "print(child.show_father())  # Output: Father's property\n",
    "print(child.show_mother())  # Output: Mother's property\n",
    "print(child.show_child())   # Output: Child's property"
   ]
  },
  {
   "cell_type": "markdown",
   "id": "7a23dbe5-eba6-48bf-a653-8e779c33e74a",
   "metadata": {},
   "source": [
    "## 19. Explain the purpose of ‘’__str__’ and ‘__repr__’ ‘ methods in Python."
   ]
  },
  {
   "cell_type": "code",
   "execution_count": 19,
   "id": "2b0f991d-d2e3-4e9d-813c-d02782bb8a79",
   "metadata": {},
   "outputs": [
    {
     "name": "stdout",
     "output_type": "stream",
     "text": [
      "Alice, 30 years old\n",
      "Person(name='Alice', age=30)\n"
     ]
    }
   ],
   "source": [
    "# In Python, the __str__ and __repr__ methods are special methods, also known as dunder (double underscore) methods or magic methods, \n",
    "# that are used to define how objects are represented as strings. Both serve different purposes and are used in different contexts.\n",
    "\n",
    "# __str__ Method:\n",
    "\n",
    "# Purpose: The __str__ method is used to provide a readable and user-friendly string representation of an object. \n",
    "# It is called by the built-in str() function and by the print() function when printing an object.\n",
    "\n",
    "# Usage: This method is intended for creating a “pretty” or informal string representation of the object, suitable for end-user display.\n",
    "\n",
    "# Example of __str__:\n",
    "\n",
    "class Person:\n",
    "    def __init__(self, name, age):\n",
    "        self.name = name\n",
    "        self.age = age\n",
    "    \n",
    "    def __str__(self):\n",
    "        return f\"{self.name}, {self.age} years old\"\n",
    "\n",
    "# Creating an instance of Person\n",
    "person = Person(\"Alice\", 30)\n",
    "\n",
    "# Using str() and print() to display the object\n",
    "print(person)  # Output: Alice, 30 years old\n",
    "\n",
    "\n",
    "# __repr__ Method:\n",
    "\n",
    "# Purpose: The __repr__ method is used to provide an official string representation of an object that can ideally be used to recreate the object. \n",
    "# It is called by the built-in repr() function and by the interactive interpreter to display object representations.\n",
    "\n",
    "# Usage: This method is intended for developers and debugging purposes. It should provide a detailed and unambiguous string representation of the object.\n",
    "\n",
    "# Example of __repr__:\n",
    "\n",
    "class Person:\n",
    "    def __init__(self, name, age):\n",
    "        self.name = name\n",
    "        self.age = age\n",
    "    \n",
    "    def __repr__(self):\n",
    "        return f\"Person(name='{self.name}', age={self.age})\"\n",
    "\n",
    "# Creating an instance of Person\n",
    "person = Person(\"Alice\", 30)\n",
    "\n",
    "# Using repr() to display the object\n",
    "print(repr(person))  # Output: Person(name='Alice', age=30)\n"
   ]
  },
  {
   "cell_type": "markdown",
   "id": "f15a642b-b048-4fd8-851a-f34ae57e241a",
   "metadata": {},
   "source": [
    "## 20. What is the significance of the ‘super()’ function in Python?"
   ]
  },
  {
   "cell_type": "code",
   "execution_count": 20,
   "id": "b747e39f-8ef2-4b8d-af3f-6f3df10edae1",
   "metadata": {},
   "outputs": [
    {
     "name": "stdout",
     "output_type": "stream",
     "text": [
      "Buddy\n",
      "Golden Retriever\n",
      "Woof!\n"
     ]
    }
   ],
   "source": [
    "# The super() function in Python is a built-in function that provides a way to call methods from a parent class (or superclass) \n",
    "# in a child class (or subclass). It is particularly useful in the context of multiple inheritance and when overriding methods in subclasses.\n",
    "\n",
    "# Significance of the super() Function:\n",
    "\n",
    "# Access Parent Class Methods:\n",
    "# super() allows you to call methods from the parent class, facilitating method overriding and ensuring that the parent class's implementation is preserved and extended.\n",
    "\n",
    "# Maintainable and Reusable Code:\n",
    "# By using super(), you can avoid hard-coding the parent class name, making your code more maintainable and reusable. \n",
    "# If the class hierarchy changes, you won't need to update the method calls.\n",
    "\n",
    "# Multiple Inheritance:\n",
    "# super() is particularly useful in multiple inheritance scenarios, where it helps to ensure that all parent classes are properly initialized\n",
    "# and their methods are called in a consistent manner.\n",
    "\n",
    "# Simplified Initialization:\n",
    "# super() simplifies the process of initializing objects,\n",
    "# especially when dealing with complex class hierarchies. It allows you to call the parent class's constructor, ensuring that all necessary initializations are performed.\n",
    "\n",
    "# Example:\n",
    "class Animal:\n",
    "    def __init__(self, name):\n",
    "        self.name = name\n",
    "    \n",
    "    def speak(self):\n",
    "        return \"Some generic sound\"\n",
    "\n",
    "class Dog(Animal):\n",
    "    def __init__(self, name, breed):\n",
    "        super().__init__(name)  # Calling the parent class's __init__ method\n",
    "        self.breed = breed\n",
    "    \n",
    "    def speak(self):\n",
    "        return \"Woof!\"\n",
    "\n",
    "# Creating an instance of Dog\n",
    "dog = Dog(\"Buddy\", \"Golden Retriever\")\n",
    "\n",
    "print(dog.name)   # Output: Buddy\n",
    "print(dog.breed)  # Output: Golden Retriever\n",
    "print(dog.speak())  # Output: Woof!\n"
   ]
  },
  {
   "cell_type": "markdown",
   "id": "1e6dbfdc-bb94-4457-998b-8485d822c71a",
   "metadata": {},
   "source": [
    "## 21. What is the significance of the __del__ method in Python?"
   ]
  },
  {
   "cell_type": "code",
   "execution_count": 21,
   "id": "453bb91f-d03e-49f4-81a1-4fc4a17ac71c",
   "metadata": {},
   "outputs": [
    {
     "name": "stdout",
     "output_type": "stream",
     "text": [
      "File example.txt opened\n",
      "File closed\n"
     ]
    }
   ],
   "source": [
    "# The __del__ method in Python is a special method, also known as a destructor,\n",
    "# that is called when an object is about to be destroyed. \n",
    "# This method allows you to define cleanup actions that should be performed when an object is no longer needed and is being garbage collected.\n",
    "\n",
    "# Key Points About __del__ Method:\n",
    "\n",
    "# Automatic Cleanup:\n",
    "# The __del__ method is called automatically when an object's reference count drops to zero, meaning there are no more references to the object.\n",
    "\n",
    "# Resource Management:\n",
    "# The __del__ method is useful for releasing resources like file handles, network connections, \n",
    "# or memory that the object may be holding. This ensures that such resources are properly cleaned up when the object is destroyed.\n",
    "\n",
    "# Method Definition:\n",
    "# The __del__ method is defined within a class and typically takes only one parameter, self.\n",
    "\n",
    "# Example of __del__ Method:\n",
    "\n",
    "class FileHandler:\n",
    "    def __init__(self, filename):\n",
    "        self.file = open(filename, 'w')\n",
    "        print(f\"File {filename} opened\")\n",
    "    \n",
    "    def write_data(self, data):\n",
    "        self.file.write(data)\n",
    "    \n",
    "    def __del__(self):\n",
    "        self.file.close()\n",
    "        print(\"File closed\")\n",
    "\n",
    "# Using the FileHandler class\n",
    "file_handler = FileHandler(\"example.txt\")\n",
    "file_handler.write_data(\"Hello, World!\")\n",
    "del file_handler  # Output: File close"
   ]
  },
  {
   "cell_type": "markdown",
   "id": "32e9f2f6-1216-4a55-affb-f32b4bc7c632",
   "metadata": {},
   "source": [
    "## 22. What is the difference between @staticmethod and @classmethod in Python?"
   ]
  },
  {
   "cell_type": "code",
   "execution_count": 22,
   "id": "dc9bbf94-39f3-4359-a0fd-1895c3cf5c3c",
   "metadata": {},
   "outputs": [
    {
     "name": "stdout",
     "output_type": "stream",
     "text": [
      "8\n",
      "8\n",
      "0\n",
      "2\n"
     ]
    }
   ],
   "source": [
    "# In Python, @staticmethod and @classmethod are decorators that define methods within a class that have different behaviors and purposes. \n",
    "# Here's a detailed comparison between them:\n",
    "\n",
    "# @staticmethod:\n",
    "\n",
    "# Definition: A static method does not receive an implicit first argument. It behaves like a plain function but belongs to the class's namespace.\n",
    "\n",
    "# Parameters: It does not take self or cls as its first parameter.\n",
    "\n",
    "# Usage: Used for utility functions that do not modify class or instance state and do not need access to the class or instance.\n",
    "\n",
    "# Call: Can be called on an instance or on the class itself.\n",
    "\n",
    "# Example of @staticmethod:\n",
    "\n",
    "class MathOperations:\n",
    "    @staticmethod\n",
    "    def add(a, b):\n",
    "        return a + b\n",
    "\n",
    "# Usage\n",
    "print(MathOperations.add(5, 3))  # Output: 8\n",
    "math_op = MathOperations()\n",
    "print(math_op.add(5, 3))  # Output: 8\n",
    "\n",
    "\n",
    "# @classmethod:\n",
    "\n",
    "# Definition: A class method receives the class as its first implicit argument. It can modify the class state that applies across all instances.\n",
    "\n",
    "# Parameters: Takes cls as its first parameter, which refers to the class itself.\n",
    "\n",
    "# Usage: Used for methods that need to access or modify class-level data, and that should be applicable to all instances of the class.\n",
    "\n",
    "# Call: Can be called on an instance or on the class itself.\n",
    "\n",
    "# Example of @classmethod:\n",
    "\n",
    "class MyClass:\n",
    "    class_variable = 0\n",
    "\n",
    "    def __init__(self):\n",
    "        MyClass.class_variable += 1\n",
    "\n",
    "    @classmethod\n",
    "    def get_class_variable(cls):\n",
    "        return cls.class_variable\n",
    "\n",
    "# Usage\n",
    "print(MyClass.get_class_variable())  # Output: 0 (before any instance is created)\n",
    "obj1 = MyClass()\n",
    "obj2 = MyClass()\n",
    "print(MyClass.get_class_variable())  # Output: 2\n"
   ]
  },
  {
   "cell_type": "markdown",
   "id": "936fc254-89ee-4e0c-a031-a313fed6003e",
   "metadata": {},
   "source": [
    "## 23. How does polymorphism work in Python with inheritance?"
   ]
  },
  {
   "cell_type": "code",
   "execution_count": 23,
   "id": "72c1f71b-d13b-407f-b7ec-02d173d21880",
   "metadata": {},
   "outputs": [
    {
     "name": "stdout",
     "output_type": "stream",
     "text": [
      "Area: 78.5\n",
      "Perimeter: 31.400000000000002\n",
      "Area: 24\n",
      "Perimeter: 20\n"
     ]
    }
   ],
   "source": [
    "# Polymorphism in Python, when combined with inheritance, allows different classes to be treated as instances of the same class through a common interface.\n",
    "# This enables objects of different classes to be used interchangeably, promoting flexibility and scalability in code.\n",
    "\n",
    "# Key Concepts of Polymorphism with Inheritance:\n",
    "\n",
    "# Inheritance:\n",
    "# A subclass inherits methods and attributes from a parent class.\n",
    "\n",
    "# The subclass can override methods of the parent class to provide specific implementations.\n",
    "\n",
    "# Method Overriding:\n",
    "# Subclasses can provide their own implementation of methods defined in the parent class. This allows different subclasses to have different behaviors for the same method.\n",
    "\n",
    "# Common Interface:\n",
    "# Polymorphism allows a common interface to be used for different types of objects. This is achieved through method overriding and the use of inheritance.\n",
    "\n",
    "# Example of Polymorphism with Inheritance:\n",
    "\n",
    "class Shape:\n",
    "    def area(self):\n",
    "        raise NotImplementedError(\"Subclass must implement abstract method\")\n",
    "\n",
    "    def perimeter(self):\n",
    "        raise NotImplementedError(\"Subclass must implement abstract method\")\n",
    "\n",
    "class Circle(Shape):\n",
    "    def __init__(self, radius):\n",
    "        self.radius = radius\n",
    "    \n",
    "    def area(self):\n",
    "        return 3.14 * self.radius ** 2\n",
    "    \n",
    "    def perimeter(self):\n",
    "        return 2 * 3.14 * self.radius\n",
    "\n",
    "class Rectangle(Shape):\n",
    "    def __init__(self, width, height):\n",
    "        self.width = width\n",
    "        self.height = height\n",
    "    \n",
    "    def area(self):\n",
    "        return self.width * self.height\n",
    "    \n",
    "    def perimeter(self):\n",
    "        return 2 * (self.width + self.height)\n",
    "\n",
    "# Function that works with any Shape object\n",
    "def describe_shape(shape):\n",
    "    print(f\"Area: {shape.area()}\")\n",
    "    print(f\"Perimeter: {shape.perimeter()}\")\n",
    "\n",
    "# Creating instances of subclasses\n",
    "circle = Circle(5)\n",
    "rectangle = Rectangle(4, 6)\n",
    "\n",
    "# Demonstrating polymorphism\n",
    "describe_shape(circle)\n",
    "\n",
    "describe_shape(rectangle)"
   ]
  },
  {
   "cell_type": "markdown",
   "id": "19c3e419-c8d5-4c85-869a-4ecd73d5816e",
   "metadata": {},
   "source": [
    "## 24. What is method chaining in Python OOP?"
   ]
  },
  {
   "cell_type": "code",
   "execution_count": 24,
   "id": "edd2e195-f8bf-42a4-943a-02e9c5ab6c14",
   "metadata": {},
   "outputs": [
    {
     "name": "stdout",
     "output_type": "stream",
     "text": [
      "Name: Alice, Age: 30, City: New York\n"
     ]
    }
   ],
   "source": [
    "# Method chaining in Python Object-Oriented Programming (OOP) refers to the technique of calling multiple methods on the same object sequentially in a single statement.\n",
    "# Each method call returns the object itself or another relevant object, allowing subsequent method calls to be chained together. This makes the code more concise and readable.\n",
    "\n",
    "# Key Points:\n",
    "\n",
    "# Fluent Interface:\n",
    "# Method chaining is often used to create a fluent interface, where methods can be called in a chain to perform multiple actions on the same object.\n",
    "\n",
    "# Returning self:\n",
    "# For method chaining to work, each method must return self or an appropriate object, allowing the next method in the chain to be called on the same object.\n",
    "\n",
    "# Improved Readability:\n",
    "# Chaining methods can make the code more readable and expressive, reducing the need for intermediate variables.\n",
    "\n",
    "# Example of Method Chaining:\n",
    "\n",
    "class Person:\n",
    "    def __init__(self, name):\n",
    "        self.name = name\n",
    "        self.age = None\n",
    "        self.city = None\n",
    "    \n",
    "    def set_age(self, age):\n",
    "        self.age = age\n",
    "        return self\n",
    "    \n",
    "    def set_city(self, city):\n",
    "        self.city = city\n",
    "        return self\n",
    "    \n",
    "    def display(self):\n",
    "        return f\"Name: {self.name}, Age: {self.age}, City: {self.city}\"\n",
    "\n",
    "# Creating an instance and using method chaining\n",
    "person = Person(\"Alice\")\n",
    "person.set_age(30).set_city(\"New York\")\n",
    "\n",
    "print(person.display())  # Output: Name: Alice, Age: 30, City: New York"
   ]
  },
  {
   "cell_type": "markdown",
   "id": "531cd703-dfe1-4687-b7d8-b85dee7ae78e",
   "metadata": {},
   "source": [
    "## 25. What is the purpose of the __call__ method in Python?"
   ]
  },
  {
   "cell_type": "code",
   "execution_count": 25,
   "id": "791c36ea-eb74-4308-a5aa-25918f93e3a0",
   "metadata": {},
   "outputs": [
    {
     "name": "stdout",
     "output_type": "stream",
     "text": [
      "15\n",
      "25\n"
     ]
    }
   ],
   "source": [
    "# The __call__ method in Python is a special method, also known as a dunder (double underscore) method, \n",
    "# that allows an instance of a class to be called as if it were a function. When you define the __call__ method in a class, \n",
    "# you can use the class instances like callable objects (functions). This can be particularly useful for creating classes that need to perform\n",
    "# a specific action or calculation when called.\n",
    "\n",
    "# Purpose of the __call__ Method:\n",
    "\n",
    "# Callable Objects:\n",
    "# It allows instances of a class to be called like functions, making the class more flexible and intuitive to use.\n",
    "\n",
    "# Encapsulation:\n",
    "# You can encapsulate a specific behavior or computation within the __call__ method, providing a clean and simple interface for that functionality.\n",
    "\n",
    "# Function Objects:\n",
    "# It can be used to create function objects that maintain state, allowing for more complex behaviors than simple functions.\n",
    "\n",
    "# Example of the __call__ Method:\n",
    "\n",
    "class Adder:\n",
    "    def __init__(self, value):\n",
    "        self.value = value\n",
    "\n",
    "    def __call__(self, x):\n",
    "        return self.value + x\n",
    "\n",
    "# Creating an instance of Adder\n",
    "add_five = Adder(5)\n",
    "\n",
    "# Calling the instance like a function\n",
    "print(add_five(10))  # Output: 15\n",
    "print(add_five(20))  # Output: 25"
   ]
  },
  {
   "cell_type": "markdown",
   "id": "7f778213-59e6-4ced-9ebc-5e9405c4f288",
   "metadata": {},
   "source": [
    "# Practical Questions"
   ]
  },
  {
   "cell_type": "markdown",
   "id": "21ad9405-c3be-4f1c-9bbb-a049de39be8e",
   "metadata": {},
   "source": [
    "## 1. Create a parent class Animal with a method speak() that prints a generic message. Create a child class Dog that overrides the speak() method to print \"Bark!\"."
   ]
  },
  {
   "cell_type": "code",
   "execution_count": 26,
   "id": "039c06ac-1682-4ad3-b9b7-f0dbc19fd34c",
   "metadata": {},
   "outputs": [
    {
     "name": "stdout",
     "output_type": "stream",
     "text": [
      "Bark!\n"
     ]
    }
   ],
   "source": [
    "class Animal:\n",
    "    def speak(self):\n",
    "        print(\"Animal speaks!\")\n",
    "\n",
    "class Dog(Animal):\n",
    "    def speak(self):\n",
    "        print(\"Bark!\")\n",
    "\n",
    "# Example usage:\n",
    "dog = Dog()\n",
    "dog.speak()  # Output: Bark!"
   ]
  },
  {
   "cell_type": "markdown",
   "id": "10d9dddb-8a67-4045-acab-419dab8aadb0",
   "metadata": {},
   "source": [
    "## 2. Write a program to create an abstract class Shape with a method area(). Derive classes Circle and Rectangle from it and implement the area() method in both."
   ]
  },
  {
   "cell_type": "code",
   "execution_count": 27,
   "id": "3d002b56-4e29-481a-9ed7-7430dcb655d8",
   "metadata": {},
   "outputs": [
    {
     "name": "stdout",
     "output_type": "stream",
     "text": [
      "78.5\n",
      "24\n"
     ]
    }
   ],
   "source": [
    "from abc import ABC, abstractmethod\n",
    "\n",
    "class Shape(ABC):\n",
    "    @abstractmethod\n",
    "    def area(self):\n",
    "        pass\n",
    "\n",
    "class Circle(Shape):\n",
    "    def __init__(self, radius):\n",
    "        self.radius = radius\n",
    "\n",
    "    def area(self):\n",
    "        return 3.14 * self.radius ** 2\n",
    "\n",
    "class Rectangle(Shape):\n",
    "    def __init__(self, length, breadth):\n",
    "        self.length = length\n",
    "        self.breadth = breadth\n",
    "\n",
    "    def area(self):\n",
    "        return self.length * self.breadth\n",
    "\n",
    "# Example usage:\n",
    "circle = Circle(5)\n",
    "rectangle = Rectangle(4, 6)\n",
    "print(circle.area())  # Output: 78.5\n",
    "print(rectangle.area())  # Output: 24"
   ]
  },
  {
   "cell_type": "markdown",
   "id": "eaceae43-5ccb-41a4-89c9-1adf668d1be1",
   "metadata": {},
   "source": [
    "## 3. Implement a multi-level inheritance scenario where a class Vehicle has an attribute type. Derive a class Car and further derive a class ElectricCar that adds a battery attribute."
   ]
  },
  {
   "cell_type": "code",
   "execution_count": 28,
   "id": "275ad0c2-66c0-4cf9-b7ee-f3b9d85cafbd",
   "metadata": {},
   "outputs": [
    {
     "name": "stdout",
     "output_type": "stream",
     "text": [
      "Car Tesla with battery 100 kWh\n"
     ]
    }
   ],
   "source": [
    "class Vehicle:\n",
    "    def __init__(self, vehicle_type):\n",
    "        self.vehicle_type = vehicle_type\n",
    "\n",
    "class Car(Vehicle):\n",
    "    def __init__(self, vehicle_type, brand):\n",
    "        super().__init__(vehicle_type)\n",
    "        self.brand = brand\n",
    "\n",
    "class ElectricCar(Car):\n",
    "    def __init__(self, vehicle_type, brand, battery_capacity):\n",
    "        super().__init__(vehicle_type, brand)\n",
    "        self.battery_capacity = battery_capacity\n",
    "\n",
    "# Example usage:\n",
    "tesla = ElectricCar(\"Car\", \"Tesla\", \"100 kWh\")\n",
    "print(f\"{tesla.vehicle_type} {tesla.brand} with battery {tesla.battery_capacity}\")"
   ]
  },
  {
   "cell_type": "markdown",
   "id": "55af80da-ee47-4b55-8ed8-2465dfc62511",
   "metadata": {},
   "source": [
    "## 4. Implement a multi-level inheritance scenario where a class Vehicle has an attribute type. Derive a class Car and further derive a class ElectricCar that adds a battery attribute."
   ]
  },
  {
   "cell_type": "code",
   "execution_count": 29,
   "id": "207bca7f-822f-411f-bf55-ba846b9eeba7",
   "metadata": {},
   "outputs": [
    {
     "name": "stdout",
     "output_type": "stream",
     "text": [
      "Car Tesla with battery 100 kWh\n"
     ]
    }
   ],
   "source": [
    "class Vehicle:\n",
    "    def __init__(self, vehicle_type):\n",
    "        self.vehicle_type = vehicle_type\n",
    "\n",
    "class Car(Vehicle):\n",
    "    def __init__(self, vehicle_type, brand):\n",
    "        super().__init__(vehicle_type)\n",
    "        self.brand = brand\n",
    "\n",
    "class ElectricCar(Car):\n",
    "    def __init__(self, vehicle_type, brand, battery_capacity):\n",
    "        super().__init__(vehicle_type, brand)\n",
    "        self.battery_capacity = battery_capacity\n",
    "\n",
    "# Example usage:\n",
    "tesla = ElectricCar(\"Car\", \"Tesla\", \"100 kWh\")\n",
    "print(f\"{tesla.vehicle_type} {tesla.brand} with battery {tesla.battery_capacity}\")"
   ]
  },
  {
   "cell_type": "markdown",
   "id": "822aa823-ba84-4220-bb7e-27e6c7190e8a",
   "metadata": {},
   "source": [
    "## 5. Write a program to demonstrate encapsulation by creating a class BankAccount with private attributes balance and methods to deposit, withdraw, and check balance."
   ]
  },
  {
   "cell_type": "code",
   "execution_count": 30,
   "id": "99f9e733-6c66-40d3-8bcf-cf7fd524645b",
   "metadata": {},
   "outputs": [
    {
     "name": "stdout",
     "output_type": "stream",
     "text": [
      "500\n"
     ]
    }
   ],
   "source": [
    "class BankAccount:\n",
    "    def __init__(self):\n",
    "        self.__balance = 0\n",
    "\n",
    "    def deposit(self, amount):\n",
    "        self.__balance += amount\n",
    "\n",
    "    def withdraw(self, amount):\n",
    "        if amount <= self.__balance:\n",
    "            self.__balance -= amount\n",
    "        else:\n",
    "            print(\"Insufficient balance\")\n",
    "\n",
    "    def check_balance(self):\n",
    "        return self.__balance\n",
    "\n",
    "# Example usage:\n",
    "account = BankAccount()\n",
    "account.deposit(1000)\n",
    "account.withdraw(500)\n",
    "print(account.check_balance())  # Output: 500"
   ]
  },
  {
   "cell_type": "markdown",
   "id": "887adc22-1900-4926-a4f3-eb9374b4575c",
   "metadata": {},
   "source": [
    "## 6. Demonstrate runtime polymorphism using a method play() in a base class Instrument. Derive classes Guitar and Piano that implement their own version of play()."
   ]
  },
  {
   "cell_type": "code",
   "execution_count": 31,
   "id": "543b5fe5-8bc2-4dac-9625-74eaa4c6b5c4",
   "metadata": {},
   "outputs": [
    {
     "name": "stdout",
     "output_type": "stream",
     "text": [
      "Playing the guitar\n",
      "Playing the piano\n"
     ]
    }
   ],
   "source": [
    "class Instrument:\n",
    "    def play(self):\n",
    "        print(\"Playing an instrument\")\n",
    "\n",
    "class Guitar(Instrument):\n",
    "    def play(self):\n",
    "        print(\"Playing the guitar\")\n",
    "\n",
    "class Piano(Instrument):\n",
    "    def play(self):\n",
    "        print(\"Playing the piano\")\n",
    "\n",
    "# Example usage:\n",
    "instruments = [Guitar(), Piano()]\n",
    "for instrument in instruments:\n",
    "    instrument.play()\n"
   ]
  },
  {
   "cell_type": "markdown",
   "id": "586127a7-7f98-4304-a29c-3f57252dda14",
   "metadata": {},
   "source": [
    "## 7. Create a class MathOperations with a class method add_numbers() to add two numbers and a static method subtract_numbers() to subtract two numbers."
   ]
  },
  {
   "cell_type": "code",
   "execution_count": 32,
   "id": "b8b5e4b2-40d0-4b27-9b47-d076932a85b6",
   "metadata": {},
   "outputs": [
    {
     "name": "stdout",
     "output_type": "stream",
     "text": [
      "8\n",
      "4\n"
     ]
    }
   ],
   "source": [
    "class MathOperations:\n",
    "    @classmethod\n",
    "    def add_numbers(cls, a, b):\n",
    "        return a + b\n",
    "\n",
    "    @staticmethod\n",
    "    def subtract_numbers(a, b):\n",
    "        return a - b\n",
    "\n",
    "# Example usage:\n",
    "print(MathOperations.add_numbers(5, 3))  # Output: 8\n",
    "print(MathOperations.subtract_numbers(10, 6))  # Output: 4"
   ]
  },
  {
   "cell_type": "markdown",
   "id": "dac01244-db92-47cf-a198-f27d10bf3a4e",
   "metadata": {},
   "source": [
    "## 8. Implement a class Person with a class method to count the total number of persons created."
   ]
  },
  {
   "cell_type": "code",
   "execution_count": 33,
   "id": "fb94d9c3-97c3-4ffc-a142-3adc434292f5",
   "metadata": {},
   "outputs": [
    {
     "name": "stdout",
     "output_type": "stream",
     "text": [
      "2\n"
     ]
    }
   ],
   "source": [
    "class Person:\n",
    "    count = 0\n",
    "\n",
    "    def __init__(self, name):\n",
    "        self.name = name\n",
    "        Person.count += 1\n",
    "\n",
    "    @classmethod\n",
    "    def total_persons(cls):\n",
    "        return cls.count\n",
    "\n",
    "# Example usage:\n",
    "p1 = Person(\"Alice\")\n",
    "p2 = Person(\"Bob\")\n",
    "print(Person.total_persons())  # Output: 2"
   ]
  },
  {
   "cell_type": "markdown",
   "id": "6d874929-430d-402d-b316-985730f9564c",
   "metadata": {},
   "source": [
    "## 9. Write a class Fraction with attributes numerator and denominator. Override the str method to display the fraction as \"numerator/denominator\"."
   ]
  },
  {
   "cell_type": "code",
   "execution_count": 34,
   "id": "d29ffd23-7f85-4c04-908f-3b1c29ff5040",
   "metadata": {},
   "outputs": [
    {
     "name": "stdout",
     "output_type": "stream",
     "text": [
      "3/4\n"
     ]
    }
   ],
   "source": [
    "class Fraction:\n",
    "    def __init__(self, numerator, denominator):\n",
    "        self.numerator = numerator\n",
    "        self.denominator = denominator\n",
    "\n",
    "    def __str__(self):\n",
    "        return f\"{self.numerator}/{self.denominator}\"\n",
    "\n",
    "# Example usage:\n",
    "fraction = Fraction(3, 4)\n",
    "print(fraction)  # Output: 3/4"
   ]
  },
  {
   "cell_type": "markdown",
   "id": "ed502f43-e133-4c1a-a9b0-f0879d1a993f",
   "metadata": {},
   "source": [
    "## 10. Demonstrate operator overloading by creating a class Vector and overriding the add method to add two vectors."
   ]
  },
  {
   "cell_type": "code",
   "execution_count": 35,
   "id": "11143b79-6d3f-4fc7-b3b0-507a148f4466",
   "metadata": {},
   "outputs": [
    {
     "name": "stdout",
     "output_type": "stream",
     "text": [
      "Vector(6, 8)\n"
     ]
    }
   ],
   "source": [
    "class Vector:\n",
    "    def __init__(self, x, y):\n",
    "        self.x = x\n",
    "        self.y = y\n",
    "\n",
    "    def __add__(self, other):\n",
    "        return Vector(self.x + other.x, self.y + other.y)\n",
    "\n",
    "    def __str__(self):\n",
    "        return f\"Vector({self.x}, {self.y})\"\n",
    "\n",
    "# Example usage:\n",
    "v1 = Vector(2, 3)\n",
    "v2 = Vector(4, 5)\n",
    "print(v1 + v2)  # Output: Vector(6, 8)"
   ]
  },
  {
   "cell_type": "markdown",
   "id": "1266c14a-4f0f-457c-b8d9-f1e7545d0694",
   "metadata": {},
   "source": [
    "## 11. Create a class Person with attributes name and age. Add a method greet() that prints \"Hello, my name is {name} and I am {age} years old.\""
   ]
  },
  {
   "cell_type": "code",
   "execution_count": 36,
   "id": "bbb1e945-1ece-4eaa-995c-89e0101ca027",
   "metadata": {},
   "outputs": [
    {
     "name": "stdout",
     "output_type": "stream",
     "text": [
      "Hello, my name is Alice and I am 25 years old.\n"
     ]
    }
   ],
   "source": [
    "class Person:\n",
    "    def __init__(self, name, age):\n",
    "        self.name = name\n",
    "        self.age = age\n",
    "\n",
    "    def greet(self):\n",
    "        print(f\"Hello, my name is {self.name} and I am {self.age} years old.\")\n",
    "\n",
    "# Example usage:\n",
    "person = Person(\"Alice\", 25)\n",
    "person.greet()"
   ]
  },
  {
   "cell_type": "markdown",
   "id": "6c6b2797-49f9-4924-bc8e-2fc97744f58e",
   "metadata": {},
   "source": [
    "## 12. Implement a class Student with attributes name and grades. Create a method average_grade() to compute the average of the grades"
   ]
  },
  {
   "cell_type": "code",
   "execution_count": 37,
   "id": "20269b53-b178-41ae-ae49-2551f395642d",
   "metadata": {},
   "outputs": [
    {
     "name": "stdout",
     "output_type": "stream",
     "text": [
      "84.33333333333333\n"
     ]
    }
   ],
   "source": [
    "class Student:\n",
    "    def __init__(self, name, grades):\n",
    "        self.name = name\n",
    "        self.grades = grades\n",
    "\n",
    "    def average_grade(self):\n",
    "        return sum(self.grades) / len(self.grades)\n",
    "\n",
    "# Example usage:\n",
    "student = Student(\"Bob\", [85, 90, 78])\n",
    "print(student.average_grade())  # Output: 84.33"
   ]
  },
  {
   "cell_type": "markdown",
   "id": "283c76f2-09fd-4eb6-aede-5458946852a1",
   "metadata": {},
   "source": [
    "## 13. Create a class Rectangle with methods set_dimensions() to set the dimensions and area() to calculate the area."
   ]
  },
  {
   "cell_type": "code",
   "execution_count": 38,
   "id": "6f23efe3-21f1-4ec7-bbf5-a2eb0249c6b0",
   "metadata": {},
   "outputs": [
    {
     "name": "stdout",
     "output_type": "stream",
     "text": [
      "20\n"
     ]
    }
   ],
   "source": [
    "class Rectangle:\n",
    "    def set_dimensions(self, length, breadth):\n",
    "        self.length = length\n",
    "        self.breadth = breadth\n",
    "\n",
    "    def area(self):\n",
    "        return self.length * self.breadth\n",
    "\n",
    "# Example usage:\n",
    "rect = Rectangle()\n",
    "rect.set_dimensions(4, 5)\n",
    "print(rect.area())  # Output: 20"
   ]
  },
  {
   "cell_type": "markdown",
   "id": "c262f01c-2c16-4bcb-bd78-7687ca4001c2",
   "metadata": {},
   "source": [
    "## 14. Create a class Employee with a method calculate_salary() that computes the salary based on hours worked and hourly rate. Create a derived class Manager that adds a bonus to the salary."
   ]
  },
  {
   "cell_type": "code",
   "execution_count": 39,
   "id": "ba9ae79f-3f70-473f-aaa7-360b5c1c1457",
   "metadata": {},
   "outputs": [
    {
     "name": "stdout",
     "output_type": "stream",
     "text": [
      "2500\n"
     ]
    }
   ],
   "source": [
    "class Employee:\n",
    "    def __init__(self, hourly_rate, hours_worked):\n",
    "        self.hourly_rate = hourly_rate\n",
    "        self.hours_worked = hours_worked\n",
    "\n",
    "    def calculate_salary(self):\n",
    "        return self.hourly_rate * self.hours_worked\n",
    "\n",
    "class Manager(Employee):\n",
    "    def __init__(self, hourly_rate, hours_worked, bonus):\n",
    "        super().__init__(hourly_rate, hours_worked)\n",
    "        self.bonus = bonus\n",
    "\n",
    "    def calculate_salary(self):\n",
    "        return super().calculate_salary() + self.bonus\n",
    "\n",
    "# Example usage:\n",
    "manager = Manager(50, 40, 500)\n",
    "print(manager.calculate_salary())  # Output: 2500"
   ]
  },
  {
   "cell_type": "markdown",
   "id": "8ab4fa1d-b6bb-4a8d-85af-c6a8b180dd84",
   "metadata": {},
   "source": [
    "## 15. Create a class Product with attributes name, price, and quantity. Implement a method total_price() that calculates the total price of the product."
   ]
  },
  {
   "cell_type": "code",
   "execution_count": 40,
   "id": "ee217452-a5a7-4915-8487-71bb561f6f75",
   "metadata": {},
   "outputs": [
    {
     "name": "stdout",
     "output_type": "stream",
     "text": [
      "Total price for Laptop: 100000\n"
     ]
    }
   ],
   "source": [
    "class Product:\n",
    "    def __init__(self, name, price, quantity):\n",
    "        self.name = name\n",
    "        self.price = price\n",
    "        self.quantity = quantity\n",
    "\n",
    "    def total_price(self):\n",
    "        return self.price * self.quantity\n",
    "\n",
    "# Example usage:\n",
    "product = Product(\"Laptop\", 50000, 2)\n",
    "print(f\"Total price for {product.name}: {product.total_price()}\")"
   ]
  },
  {
   "cell_type": "markdown",
   "id": "0a4ccde7-d9c6-4322-aa0f-18b4073d7af1",
   "metadata": {},
   "source": [
    "## 16. Create a class Animal with an abstract method sound(). Create two derived classes Cow and Sheep that implement the sound() method."
   ]
  },
  {
   "cell_type": "code",
   "execution_count": 41,
   "id": "4cd6fd0f-293f-467e-b130-8f45b521a8f4",
   "metadata": {},
   "outputs": [
    {
     "name": "stdout",
     "output_type": "stream",
     "text": [
      "Moo!\n",
      "Baa!\n"
     ]
    }
   ],
   "source": [
    "from abc import ABC, abstractmethod\n",
    "\n",
    "class Animal(ABC):\n",
    "    @abstractmethod\n",
    "    def sound(self):\n",
    "        pass\n",
    "\n",
    "class Cow(Animal):\n",
    "    def sound(self):\n",
    "        return \"Moo!\"\n",
    "\n",
    "class Sheep(Animal):\n",
    "    def sound(self):\n",
    "        return \"Baa!\"\n",
    "\n",
    "# Example usage:\n",
    "cow = Cow()\n",
    "sheep = Sheep()\n",
    "print(cow.sound())  # Output: Moo!\n",
    "print(sheep.sound())  # Output: Baa!"
   ]
  },
  {
   "cell_type": "markdown",
   "id": "dd202724-6cbb-4d83-b009-679c07a0ce14",
   "metadata": {},
   "source": [
    "## 17. Create a class Book with attributes title, author, and year_published. Add a method get_book_info() that returns a formatted string with the book's details."
   ]
  },
  {
   "cell_type": "code",
   "execution_count": 42,
   "id": "5af10a7c-8637-4094-96a5-8305c8a39488",
   "metadata": {},
   "outputs": [
    {
     "name": "stdout",
     "output_type": "stream",
     "text": [
      "'1984' by George Orwell, published in 1949.\n"
     ]
    }
   ],
   "source": [
    "class Book:\n",
    "    def __init__(self, title, author, year_published):\n",
    "        self.title = title\n",
    "        self.author = author\n",
    "        self.year_published = year_published\n",
    "\n",
    "    def get_book_info(self):\n",
    "        return f\"'{self.title}' by {self.author}, published in {self.year_published}.\"\n",
    "\n",
    "# Example usage:\n",
    "book = Book(\"1984\", \"George Orwell\", 1949)\n",
    "print(book.get_book_info())"
   ]
  },
  {
   "cell_type": "markdown",
   "id": "9b6aaa4f-def9-4dbe-bbc5-cd5ae4ee6f2a",
   "metadata": {},
   "source": [
    "## 18. Create a class House with attributes address and price. Create a derived class Mansion that adds an attribute number_of_rooms"
   ]
  },
  {
   "cell_type": "code",
   "execution_count": 43,
   "id": "1d909270-fbf5-44e5-884e-49dafdb9f0d6",
   "metadata": {},
   "outputs": [
    {
     "name": "stdout",
     "output_type": "stream",
     "text": [
      "Mansion at 123 Luxury Lane costs 2000000 with 10 rooms.\n"
     ]
    }
   ],
   "source": [
    "class House:\n",
    "    def __init__(self, address, price):\n",
    "        self.address = address\n",
    "        self.price = price\n",
    "\n",
    "class Mansion(House):\n",
    "    def __init__(self, address, price, number_of_rooms):\n",
    "        super().__init__(address, price)\n",
    "        self.number_of_rooms = number_of_rooms\n",
    "\n",
    "# Example usage:\n",
    "mansion = Mansion(\"123 Luxury Lane\", 2000000, 10)\n",
    "print(f\"Mansion at {mansion.address} costs {mansion.price} with {mansion.number_of_rooms} rooms.\")"
   ]
  },
  {
   "cell_type": "code",
   "execution_count": null,
   "id": "788db1e1-d61e-4111-8266-3c64adb1e0ac",
   "metadata": {},
   "outputs": [],
   "source": []
  }
 ],
 "metadata": {
  "kernelspec": {
   "display_name": "Python 3 (ipykernel)",
   "language": "python",
   "name": "python3"
  },
  "language_info": {
   "codemirror_mode": {
    "name": "ipython",
    "version": 3
   },
   "file_extension": ".py",
   "mimetype": "text/x-python",
   "name": "python",
   "nbconvert_exporter": "python",
   "pygments_lexer": "ipython3",
   "version": "3.12.2"
  }
 },
 "nbformat": 4,
 "nbformat_minor": 5
}
