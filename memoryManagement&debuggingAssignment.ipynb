{
 "cells": [
  {
   "cell_type": "markdown",
   "id": "975520c4-a345-4c5a-b5ac-9cf43884bd06",
   "metadata": {},
   "source": [
    "# Files, exceptional handling, logging and memory management Questions"
   ]
  },
  {
   "cell_type": "markdown",
   "id": "5c4cf49a-7c84-4064-89bb-10c336b5dbd2",
   "metadata": {},
   "source": [
    "## 1. What is the difference between interpreted and compiled languages?"
   ]
  },
  {
   "cell_type": "code",
   "execution_count": null,
   "id": "98f679c9-aa64-4cc1-898c-a2a22cd60c2d",
   "metadata": {},
   "outputs": [],
   "source": [
    "# Interpreted languages execute code line-by-line, making them slower but easier to debug (e.g., Python).\n",
    "# Compiled languages are first converted into machine code by a compiler, resulting in faster execution but\n",
    "# requiring the entire program to be compiled before running (e.g., C++). Interpreted languages are platform-independent,\n",
    "# while compiled ones are platform-specific."
   ]
  },
  {
   "cell_type": "markdown",
   "id": "892bcfac-2e16-47ad-b3a1-14c1cc1435f7",
   "metadata": {},
   "source": [
    "## 2. What is exception handling in Python?"
   ]
  },
  {
   "cell_type": "code",
   "execution_count": null,
   "id": "3ecdcba8-2537-475b-802a-85370440af9c",
   "metadata": {},
   "outputs": [],
   "source": [
    "# Exception handling allows a program to manage runtime errors gracefully.\n",
    "# It uses blocks like try to enclose risky code, except to handle specific exceptions, \n",
    "# else for successful execution, and finally to ensure cleanup. \n",
    "# This mechanism helps maintain the program’s flow without abrupt termination."
   ]
  },
  {
   "cell_type": "markdown",
   "id": "a7e2c5f4-eefa-45db-bf07-89b6b65e6b5f",
   "metadata": {},
   "source": [
    "## 3. What is the purpose of the finally block in exception handling?"
   ]
  },
  {
   "cell_type": "code",
   "execution_count": null,
   "id": "6f86de80-0a59-4f16-ad3e-1218c703a53c",
   "metadata": {},
   "outputs": [],
   "source": [
    "# The finally block is executed after the try and except blocks, \n",
    "# regardless of whether an exception occurred. It is typically used for cleanup tasks like closing files or releasing resources,\n",
    "# ensuring the program leaves no loose ends."
   ]
  },
  {
   "cell_type": "markdown",
   "id": "4bae4062-7194-4aa3-9785-7b1ece082187",
   "metadata": {},
   "source": [
    "## 4. What is logging in Python?"
   ]
  },
  {
   "cell_type": "code",
   "execution_count": null,
   "id": "1f6787ca-a487-43a8-bc76-7fb76a5317cd",
   "metadata": {},
   "outputs": [],
   "source": [
    "# Logging is the process of recording important runtime information, \n",
    "# such as errors, warnings, and system behavior, in a structured manner.\n",
    "# Python's logging module offers various levels like DEBUG, INFO, WARNING, ERROR, and CRITICAL, \n",
    "# making it useful for debugging and monitoring applications."
   ]
  },
  {
   "cell_type": "markdown",
   "id": "69a715df-0b05-4735-b923-ec51a494e054",
   "metadata": {},
   "source": [
    "## 5. What is the significance of the __del__ method in Python?"
   ]
  },
  {
   "cell_type": "code",
   "execution_count": null,
   "id": "d5beb0b1-ec2e-4ecc-8fb8-0b1d757049e3",
   "metadata": {},
   "outputs": [],
   "source": [
    "# The __del__ method is a destructor in Python, automatically called when an object is about to be destroyed. \n",
    "# It is often used for cleanup, like closing database connections or releasing memory, but its execution timing can\n",
    "# be unpredictable due to Python's garbage collection."
   ]
  },
  {
   "cell_type": "markdown",
   "id": "5ca46cfd-c988-4bfb-a4c8-13c5be652355",
   "metadata": {},
   "source": [
    "## 6. What is the difference between import and from ... import in Python?"
   ]
  },
  {
   "cell_type": "code",
   "execution_count": null,
   "id": "ea81d972-c0a8-464d-b0aa-36b9c684d894",
   "metadata": {},
   "outputs": [],
   "source": [
    "# The import statement brings an entire module into scope,\n",
    "# requiring prefixing items with the module name (e.g., module.function). \n",
    "# The from ... import statement allows importing specific components directly,\n",
    "# saving namespace but potentially leading to conflicts."
   ]
  },
  {
   "cell_type": "markdown",
   "id": "b94dad0d-1920-482c-aa55-f6a29682bd4e",
   "metadata": {},
   "source": [
    "## 7. How can you handle multiple exceptions in Python?"
   ]
  },
  {
   "cell_type": "code",
   "execution_count": null,
   "id": "a056d8b3-9ffc-4f8b-b2de-8a756aa72c1e",
   "metadata": {},
   "outputs": [],
   "source": [
    "# Python allows handling multiple exceptions either by using separate except blocks for each exception \n",
    "# or by grouping exceptions in a tuple (e.g., except (TypeError, ValueError)). \n",
    "# This ensures specific errors are caught and handled appropriately."
   ]
  },
  {
   "cell_type": "markdown",
   "id": "94e4642d-e9f5-456a-8779-804b5bd29b2b",
   "metadata": {},
   "source": [
    "## 8. What is the purpose of the with statement when handling files in Python?"
   ]
  },
  {
   "cell_type": "code",
   "execution_count": 13,
   "id": "7745cf47-cb3d-487c-b51c-dbbe0682daa0",
   "metadata": {},
   "outputs": [],
   "source": [
    "# The with statement simplifies resource management, especially file handling.\n",
    "# It ensures that resources, like files, are automatically closed when their block of code is exited, \n",
    "# even if an exception occurs, making the code cleaner and safer."
   ]
  },
  {
   "cell_type": "markdown",
   "id": "559f51a9-16ca-407b-8e86-ff56302e117f",
   "metadata": {},
   "source": [
    "## 9. What is the difference between multithreading and multiprocessing?"
   ]
  },
  {
   "cell_type": "code",
   "execution_count": 15,
   "id": "b324d1bd-183c-4a96-999e-b11f0b30bec3",
   "metadata": {},
   "outputs": [],
   "source": [
    "# Multithreading involves multiple threads running within a single process, \n",
    "# sharing memory and resources. It is useful for I/O-bound tasks.\n",
    "# Multiprocessing creates separate processes with isolated memory spaces,\n",
    "# ideal for CPU-bound tasks, offering better performance for parallel execution."
   ]
  },
  {
   "cell_type": "markdown",
   "id": "0ae09212-7143-497e-bcc1-c215faa2ece8",
   "metadata": {},
   "source": [
    "## 10. What are the advantages of using logging in a program?"
   ]
  },
  {
   "cell_type": "code",
   "execution_count": 17,
   "id": "4e44cf66-979d-4ec0-9fac-3f9d7eb8825f",
   "metadata": {},
   "outputs": [],
   "source": [
    "# Logging provides a way to track and debug program behavior.\n",
    "# It helps in identifying issues, analyzing runtime behavior, \n",
    "# and maintaining application records. Unlike print statements,\n",
    "# logging allows categorization, storage, and configuration of messages based on severity."
   ]
  },
  {
   "cell_type": "markdown",
   "id": "7dc5e33b-11dd-424a-b77d-e23dccb41782",
   "metadata": {},
   "source": [
    "## 11. What is memory management in Python?"
   ]
  },
  {
   "cell_type": "code",
   "execution_count": 18,
   "id": "4d232789-9a81-4493-a0cc-6ff34d1d089c",
   "metadata": {},
   "outputs": [],
   "source": [
    "# Python’s memory management is handled by the garbage collector,\n",
    "# which reclaims unused memory automatically.\n",
    "# It uses reference counting and cycle detection to identify and free memory\n",
    "# occupied by unreferenced objects, reducing manual intervention."
   ]
  },
  {
   "cell_type": "markdown",
   "id": "49e3d228-350f-43e5-850c-5b9b87cc959f",
   "metadata": {},
   "source": [
    "## 12. What are the basic steps involved in exception handling in Python?"
   ]
  },
  {
   "cell_type": "code",
   "execution_count": 20,
   "id": "c5d31f05-4832-4c0c-adca-3d40199ce6ce",
   "metadata": {},
   "outputs": [],
   "source": [
    "# Python exception handling involves wrapping risky code in a try block,\n",
    "# using except to catch errors, optionally adding else for successful execution,\n",
    "# and a finally block for cleanup. This structure ensures graceful error handling without program termination."
   ]
  },
  {
   "cell_type": "markdown",
   "id": "6ac16469-7542-4293-95ae-ce856587675a",
   "metadata": {},
   "source": [
    "## 13. Why is memory management important in Python?"
   ]
  },
  {
   "cell_type": "code",
   "execution_count": 21,
   "id": "e3555c39-7c48-48e7-b071-801025a2d01e",
   "metadata": {},
   "outputs": [],
   "source": [
    "# Proper memory management is crucial to avoid memory leaks,\n",
    "# optimize resource utilization, and maintain application performance.\n",
    "# It ensures unused objects are released, keeping the system efficient and stable."
   ]
  },
  {
   "cell_type": "markdown",
   "id": "97691f01-3125-46f8-a798-d2801a6d478c",
   "metadata": {},
   "source": [
    "## 14. What is the role of try and except in exception handling?"
   ]
  },
  {
   "cell_type": "code",
   "execution_count": 22,
   "id": "a56401da-ee2a-4255-9e07-77cdafc455ee",
   "metadata": {},
   "outputs": [],
   "source": [
    "# The try block identifies risky code that might raise exceptions.\n",
    "# The except block specifies actions to handle specific errors,\n",
    "# ensuring the program doesn’t crash unexpectedly and allowing recovery or meaningful error reporting."
   ]
  },
  {
   "cell_type": "markdown",
   "id": "89d484a8-9686-4c60-ae78-c03be0973802",
   "metadata": {},
   "source": [
    "## 15. How does Python's garbage collection system work?"
   ]
  },
  {
   "cell_type": "code",
   "execution_count": 23,
   "id": "a9347d0d-135d-47d3-893a-497422559992",
   "metadata": {},
   "outputs": [],
   "source": [
    "# Python’s garbage collection system uses reference counting to track objects \n",
    "# and identify those no longer in use. It also handles circular references through\n",
    "# a cycle detection algorithm, ensuring efficient memory usage."
   ]
  },
  {
   "cell_type": "markdown",
   "id": "598c9a56-1244-426a-abed-a4da140f92b0",
   "metadata": {},
   "source": [
    "## 16. What is the purpose of the else block in exception handling?"
   ]
  },
  {
   "cell_type": "code",
   "execution_count": null,
   "id": "5c696fd7-fb2a-4daf-9b8b-15b80214d823",
   "metadata": {},
   "outputs": [],
   "source": [
    "# The else block runs only when no exceptions occur in the try block. \n",
    "# It is useful for separating normal execution from error handling, making the code more organized."
   ]
  },
  {
   "cell_type": "markdown",
   "id": "d71a2d36-d3b2-4173-83dc-b2b4143dd7f4",
   "metadata": {},
   "source": [
    "## 17. What are the common logging levels in Python?"
   ]
  },
  {
   "cell_type": "code",
   "execution_count": null,
   "id": "cba1779b-757b-4e62-97ec-86db0119e1a4",
   "metadata": {},
   "outputs": [],
   "source": [
    "# Python’s logging levels include DEBUG (detailed info), INFO (general messages),\n",
    "# WARNING (potential issues), ERROR (significant problems), and CRITICAL (severe issues). \n",
    "# These levels help categorize and prioritize log messages."
   ]
  },
  {
   "cell_type": "markdown",
   "id": "19b157c9-7961-4a2f-8019-9ce0533a7691",
   "metadata": {},
   "source": [
    "## 18. What is the difference between os.fork() and multiprocessing in Python?"
   ]
  },
  {
   "cell_type": "code",
   "execution_count": null,
   "id": "d3ae5d4b-ba81-4964-824c-f48fac36ec8a",
   "metadata": {},
   "outputs": [],
   "source": [
    "# os.fork() creates a child process by duplicating the parent’s memory space (UNIX-specific).\n",
    "# The multiprocessing module, available across platforms, provides a higher-level API \n",
    "# for creating processes with better control and flexibility."
   ]
  },
  {
   "cell_type": "markdown",
   "id": "a2b32375-e0ba-4fd0-bec7-67437f989531",
   "metadata": {},
   "source": [
    "## 19. What is the importance of closing a file in Python?"
   ]
  },
  {
   "cell_type": "code",
   "execution_count": null,
   "id": "56803f39-24cf-436e-b19c-3e06d059a020",
   "metadata": {},
   "outputs": [],
   "source": [
    "# Closing a file releases system resources and ensures changes are saved.\n",
    "# Neglecting to close files can lead to data corruption, memory leaks, or too many open file errors."
   ]
  },
  {
   "cell_type": "markdown",
   "id": "2a504d7a-d2d7-4f13-97bf-bd204a63ee1d",
   "metadata": {},
   "source": [
    "## 20. What is the difference between file.read() and file.readline() in Python?"
   ]
  },
  {
   "cell_type": "code",
   "execution_count": null,
   "id": "ece1fb00-c2b2-456b-b221-05edc2ac9c1c",
   "metadata": {},
   "outputs": [],
   "source": [
    "# read() reads the entire content of a file as a string, \n",
    "# while readline() reads one line at a time. The former is suitable for small files,\n",
    "# while the latter works better for processing large files line by line."
   ]
  },
  {
   "cell_type": "markdown",
   "id": "a83234a9-726a-4357-a77f-0d9338c924b0",
   "metadata": {},
   "source": [
    "## 21. What is the logging module in Python used for?"
   ]
  },
  {
   "cell_type": "code",
   "execution_count": null,
   "id": "5bd1f030-6e33-4b2a-baca-15f951a8afed",
   "metadata": {},
   "outputs": [],
   "source": [
    "# The logging module in Python helps record application activity.\n",
    "# It supports various log levels, outputs logs to files or the console,\n",
    "# and offers features like log rotation for long-running applications."
   ]
  },
  {
   "cell_type": "markdown",
   "id": "77783e74-af3a-4bc0-8524-d840cb98f23b",
   "metadata": {},
   "source": [
    "## 22. What is the os module in Python used for in file handling?"
   ]
  },
  {
   "cell_type": "code",
   "execution_count": null,
   "id": "f5cfeedd-0b0d-44da-97f7-4aa3f7010823",
   "metadata": {},
   "outputs": [],
   "source": [
    "# The os module allows interaction with the operating system, \n",
    "# providing functionality like file and directory management, \n",
    "# environment variable access, and process handling."
   ]
  },
  {
   "cell_type": "markdown",
   "id": "29ec0cf8-1133-440d-8d6b-3f7a8fefeddb",
   "metadata": {},
   "source": [
    "## 23. What are the challenges associated with memory management in Python?"
   ]
  },
  {
   "cell_type": "code",
   "execution_count": null,
   "id": "e35df1cc-5bf0-4bca-bc75-93c693042673",
   "metadata": {},
   "outputs": [],
   "source": [
    "# Python’s memory management can face challenges like circular references,\n",
    "# memory fragmentation, or inefficient allocation. Developers need to optimize \n",
    "# object use and monitor memory-intensive tasks."
   ]
  },
  {
   "cell_type": "markdown",
   "id": "ab4617c2-fd1c-4541-b469-ea36d3fa55a1",
   "metadata": {},
   "source": [
    "## 24. How do you raise an exception manually in Python?"
   ]
  },
  {
   "cell_type": "code",
   "execution_count": null,
   "id": "640bafb9-785c-47c1-ab5d-5f5a10621a9b",
   "metadata": {},
   "outputs": [],
   "source": [
    "# Python allows manually raising exceptions using the raise keyword. \n",
    "# For example, raise ValueError(\"Invalid input!\") is helpful for enforcing conditions or handling unexpected situations."
   ]
  },
  {
   "cell_type": "markdown",
   "id": "598411a2-035c-47d5-9cd5-8a636f42f7a9",
   "metadata": {},
   "source": [
    "## 25. Why is it important to use multithreading in certain applications?"
   ]
  },
  {
   "cell_type": "code",
   "execution_count": null,
   "id": "9c8f2651-cafe-44f4-b9b3-8c6f36297844",
   "metadata": {},
   "outputs": [],
   "source": [
    "# Multithreading improves application responsiveness,\n",
    "# particularly for I/O-bound tasks. It allows simultaneous execution of tasks, \n",
    "# making applications more efficient and user-friendly."
   ]
  },
  {
   "cell_type": "markdown",
   "id": "cd7e7e0d-b5ba-42a7-9817-029b05eeffca",
   "metadata": {},
   "source": [
    "# Practical Questions"
   ]
  },
  {
   "cell_type": "markdown",
   "id": "e1e4d6df-1755-40ff-9397-9c18bc372859",
   "metadata": {},
   "source": [
    "## 1. How can you open a file for writing in Python and write a string to it?"
   ]
  },
  {
   "cell_type": "code",
   "execution_count": 1,
   "id": "ec7e775c-031c-49a5-ba02-b388d7bf1e9e",
   "metadata": {},
   "outputs": [],
   "source": [
    "with open('file.txt', 'w') as f:\n",
    "    f.write(\"Hello, World!\")"
   ]
  },
  {
   "cell_type": "markdown",
   "id": "833b9f01-1005-4925-94e7-fe8a7b36438a",
   "metadata": {},
   "source": [
    "## 2. Write a Python program to read the contents of a file and print each line?"
   ]
  },
  {
   "cell_type": "code",
   "execution_count": 2,
   "id": "8cb5a8e4-bfac-43a9-99e7-d7b6b338839e",
   "metadata": {},
   "outputs": [
    {
     "name": "stdout",
     "output_type": "stream",
     "text": [
      "Hello, World!\n"
     ]
    }
   ],
   "source": [
    "with open('file.txt', 'r') as f:\n",
    "    for line in f:\n",
    "        print(line)"
   ]
  },
  {
   "cell_type": "markdown",
   "id": "57a2b9aa-a786-421d-855e-71b7e2f9a0af",
   "metadata": {},
   "source": [
    "## 3. How would you handle a case where the file doesn't exist while trying to open it for reading?"
   ]
  },
  {
   "cell_type": "code",
   "execution_count": 3,
   "id": "48b05e1a-2a42-455f-b768-f7c327dd7ff2",
   "metadata": {},
   "outputs": [
    {
     "name": "stdout",
     "output_type": "stream",
     "text": [
      "File not found!\n"
     ]
    }
   ],
   "source": [
    "try:\n",
    "    with open('missing.txt', 'r') as f:\n",
    "        print(f.read())\n",
    "except FileNotFoundError:\n",
    "    print(\"File not found!\")"
   ]
  },
  {
   "cell_type": "markdown",
   "id": "255b95d0-98db-4416-b1fe-928a8433e9d7",
   "metadata": {},
   "source": [
    "## 4. Write a Python script that reads from one file and writes its content to another file."
   ]
  },
  {
   "cell_type": "code",
   "execution_count": 6,
   "id": "de8056d0-018a-4749-97a3-526f779dc808",
   "metadata": {},
   "outputs": [],
   "source": [
    "with open('file.txt', 'r') as src, open('dest.txt', 'w') as dest:\n",
    "    dest.write(src.read())"
   ]
  },
  {
   "cell_type": "markdown",
   "id": "8eb35576-8559-4b54-83db-1d72c573b03e",
   "metadata": {},
   "source": [
    "## 5. How would you catch and handle division by zero error in Python?"
   ]
  },
  {
   "cell_type": "code",
   "execution_count": 7,
   "id": "c6c9ba9f-9b30-491d-9ac1-68b51e00ffaa",
   "metadata": {},
   "outputs": [
    {
     "name": "stdout",
     "output_type": "stream",
     "text": [
      "Cannot divide by zero!\n"
     ]
    }
   ],
   "source": [
    "try:\n",
    "    result = 10 / 0\n",
    "except ZeroDivisionError:\n",
    "    print(\"Cannot divide by zero!\")"
   ]
  },
  {
   "cell_type": "markdown",
   "id": "b33c3d11-5cf7-4c52-bf21-4617374401d2",
   "metadata": {},
   "source": [
    "## 6. Write a Python program that logs an error message to a log file when a division by zero exception occurs."
   ]
  },
  {
   "cell_type": "code",
   "execution_count": 8,
   "id": "d7441f2f-2ee9-498a-971e-db244d6a6e28",
   "metadata": {},
   "outputs": [],
   "source": [
    "import logging\n",
    "logging.basicConfig(filename='error.log', level=logging.DEBUG)\n",
    "try:\n",
    "    result = 10 / 0\n",
    "except ZeroDivisionError:\n",
    "    logging.error(\"Division by zero!\")"
   ]
  },
  {
   "cell_type": "markdown",
   "id": "eaad98a9-fab0-4056-a2d2-c8a14aefb6b1",
   "metadata": {},
   "source": [
    "## 7. How do you log information at different levels (INFO, ERROR, WARNING) in Python using the logging module?"
   ]
  },
  {
   "cell_type": "code",
   "execution_count": 9,
   "id": "0e5e0dd2-3098-4628-8d99-71ad4493b5b2",
   "metadata": {},
   "outputs": [],
   "source": [
    "logging.info(\"Info message\")\n",
    "logging.warning(\"Warning message\")\n",
    "logging.error(\"Error message\")"
   ]
  },
  {
   "cell_type": "markdown",
   "id": "d6e42ff1-7d56-4387-88a1-5c9e2228e36c",
   "metadata": {},
   "source": [
    "## 8. Write a program to handle a file opening error using exception handling."
   ]
  },
  {
   "cell_type": "code",
   "execution_count": 10,
   "id": "054c98f6-79ab-4cc0-9aca-ef5d88e4cd5c",
   "metadata": {},
   "outputs": [
    {
     "name": "stdout",
     "output_type": "stream",
     "text": [
      "Error: [Errno 2] No such file or directory: 'demo.txt'\n"
     ]
    }
   ],
   "source": [
    "try:\n",
    "    with open('demo.txt', 'r') as f:\n",
    "        print(f.read())\n",
    "except FileNotFoundError as e:\n",
    "    print(\"Error:\", e)"
   ]
  },
  {
   "cell_type": "markdown",
   "id": "99707020-2187-402f-bba1-d3bce32c1b62",
   "metadata": {},
   "source": [
    "## 9. How can you read a file line by line and store its content in a list in Python?"
   ]
  },
  {
   "cell_type": "code",
   "execution_count": 11,
   "id": "542abaf7-7247-460c-a841-aab0bb0cded7",
   "metadata": {},
   "outputs": [],
   "source": [
    "with open('file.txt', 'r') as f:\n",
    "    lines = f.readlines()"
   ]
  },
  {
   "cell_type": "markdown",
   "id": "29050790-9e6f-4ae0-b4a0-7263f07746f9",
   "metadata": {},
   "source": [
    "## 10. How can you append data to an existing file in Python?"
   ]
  },
  {
   "cell_type": "code",
   "execution_count": 12,
   "id": "8023bf41-0c27-4cf9-8d6a-82e794e530ae",
   "metadata": {},
   "outputs": [],
   "source": [
    "with open('file.txt', 'a') as f:\n",
    "    f.write(\"New data\\n\")"
   ]
  },
  {
   "cell_type": "markdown",
   "id": "c6c99a64-0004-4a26-95ec-e799b295721e",
   "metadata": {},
   "source": [
    "## 11.Write a Python program that uses a try-except block to handle an error when attempting to access a dictionary key that doesn't exist."
   ]
  },
  {
   "cell_type": "code",
   "execution_count": 14,
   "id": "37a9df00-334f-4e53-95ca-2a5230bb07fa",
   "metadata": {},
   "outputs": [
    {
     "name": "stdout",
     "output_type": "stream",
     "text": [
      "Key not found!\n"
     ]
    }
   ],
   "source": [
    "my_dict = {}\n",
    "try:\n",
    "    value = my_dict['missing_key']\n",
    "except KeyError:\n",
    "    print(\"Key not found!\")"
   ]
  },
  {
   "cell_type": "markdown",
   "id": "4a933f46-de35-44f6-b526-9a2c8ab24a48",
   "metadata": {},
   "source": [
    "## 12. Write a program that demonstrates using multiple except blocks to handle different types of exceptions."
   ]
  },
  {
   "cell_type": "code",
   "execution_count": 15,
   "id": "e607c93f-1f94-4a25-b632-bdd170ac9f4f",
   "metadata": {},
   "outputs": [
    {
     "name": "stdout",
     "output_type": "stream",
     "text": [
      "Division by zero!\n"
     ]
    }
   ],
   "source": [
    "try:\n",
    "    print(10 / 0)\n",
    "except ZeroDivisionError:\n",
    "    print(\"Division by zero!\")\n",
    "except ValueError:\n",
    "    print(\"Invalid value!\")"
   ]
  },
  {
   "cell_type": "markdown",
   "id": "4f2d464d-1537-4877-9bdc-24827822038a",
   "metadata": {},
   "source": [
    "## 13. How would you check if a file exists before attempting to read it in Python?"
   ]
  },
  {
   "cell_type": "code",
   "execution_count": 16,
   "id": "a1eb78be-d0e8-4cf0-87bd-c50e01c79b8a",
   "metadata": {},
   "outputs": [
    {
     "name": "stdout",
     "output_type": "stream",
     "text": [
      "File exists!\n"
     ]
    }
   ],
   "source": [
    "import os\n",
    "if os.path.exists('file.txt'):\n",
    "    print(\"File exists!\")"
   ]
  },
  {
   "cell_type": "markdown",
   "id": "bd49a993-76b2-4488-b8b3-36e3e34fd24a",
   "metadata": {},
   "source": [
    "## 14. Write a program that uses the logging module to log both informational and error messages."
   ]
  },
  {
   "cell_type": "code",
   "execution_count": 17,
   "id": "d4ba822e-b66d-44d9-a511-efbf48e54eb0",
   "metadata": {},
   "outputs": [],
   "source": [
    "logging.info(\"Informational message\")\n",
    "logging.error(\"Error occurred!\")"
   ]
  },
  {
   "cell_type": "markdown",
   "id": "f532deaa-eac8-49e7-a6a0-9f2f02850270",
   "metadata": {},
   "source": [
    "## 15. Write a Python program that prints the content of a file and handles the case when the file is empty."
   ]
  },
  {
   "cell_type": "code",
   "execution_count": 20,
   "id": "7508cd89-8f66-4863-b142-8f9ac9ab8741",
   "metadata": {},
   "outputs": [],
   "source": [
    "with open('file.txt', 'r') as f:\n",
    "    content = f.read()\n",
    "    if not content:\n",
    "        print(\"File is empty!\")"
   ]
  },
  {
   "cell_type": "markdown",
   "id": "7f4809b3-eebc-4751-9671-78cd4a04ce4c",
   "metadata": {},
   "source": [
    "## 16. Demonstrate how to use memory profiling to check the memory usage of a small program."
   ]
  },
  {
   "cell_type": "code",
   "execution_count": 1,
   "id": "f44ca247-8ea2-4bdd-a072-0b3969c1a104",
   "metadata": {},
   "outputs": [],
   "source": [
    "%reload_ext memory_profiler"
   ]
  },
  {
   "cell_type": "code",
   "execution_count": 2,
   "id": "865e4ee9-5883-47ce-a98c-ab55f6203ff4",
   "metadata": {},
   "outputs": [],
   "source": [
    "def test_memory():\n",
    "    numbers = [i for i in range(1000000)]  # Allocate memory\n",
    "    return sum(numbers)"
   ]
  },
  {
   "cell_type": "code",
   "execution_count": 3,
   "id": "082dc9c0-1d26-4259-84a5-8c3c54a29fdb",
   "metadata": {},
   "outputs": [
    {
     "name": "stdout",
     "output_type": "stream",
     "text": [
      "ERROR: Could not find file C:\\Users\\shaza\\AppData\\Local\\Temp\\ipykernel_17136\\2341272390.py\n",
      "\n"
     ]
    },
    {
     "data": {
      "text/plain": []
     },
     "metadata": {},
     "output_type": "display_data"
    }
   ],
   "source": [
    "%mprun -f test_memory test_memory()"
   ]
  },
  {
   "cell_type": "markdown",
   "id": "3e6a2734-85f2-4e27-bde4-8ebc72100833",
   "metadata": {},
   "source": [
    "## 17. Write a Python program to create and write a list of numbers to a file, one number per line."
   ]
  },
  {
   "cell_type": "code",
   "execution_count": 21,
   "id": "461a6be8-a5d7-43a4-a318-b64453e3315e",
   "metadata": {},
   "outputs": [],
   "source": [
    "numbers = [1, 2, 3]\n",
    "with open('numbers.txt', 'w') as f:\n",
    "    for num in numbers:\n",
    "        f.write(f\"{num}\\n\")"
   ]
  },
  {
   "cell_type": "markdown",
   "id": "04f9212a-d53a-48c1-8a0a-593acfc9bb01",
   "metadata": {},
   "source": [
    "## 18. How would you implement a basic logging setup that logs to a file with rotation after 1MB?"
   ]
  },
  {
   "cell_type": "code",
   "execution_count": 7,
   "id": "d759db9e-d470-40e6-ab9d-0650c987968f",
   "metadata": {},
   "outputs": [],
   "source": [
    "import logging\n",
    "from logging.handlers import RotatingFileHandler\n",
    "\n",
    "# Configure rotating logging\n",
    "logger = logging.getLogger(\"RotatingLog\")\n",
    "logger.setLevel(logging.INFO)\n",
    "\n",
    "handler = RotatingFileHandler(\"app.log\", maxBytes=1_000_000, backupCount=3)\n",
    "logger.addHandler(handler)\n",
    "\n",
    "# Log some sample messages\n",
    "for i in range(10000):\n",
    "    logger.info(f\"Log entry {i}\")\n"
   ]
  },
  {
   "cell_type": "markdown",
   "id": "57027301-d014-485b-a16c-18c020947308",
   "metadata": {},
   "source": [
    "## 19. Write a program that handles both IndexError and KeyError using a try-except block."
   ]
  },
  {
   "cell_type": "code",
   "execution_count": 22,
   "id": "04c11ef6-1de5-4f04-8bbb-14149a3077da",
   "metadata": {},
   "outputs": [
    {
     "name": "stdout",
     "output_type": "stream",
     "text": [
      "Index out of range!\n"
     ]
    }
   ],
   "source": [
    "my_list=[]\n",
    "try:\n",
    "    print(my_list[5])\n",
    "except IndexError:\n",
    "    print(\"Index out of range!\")\n",
    "except KeyError:\n",
    "    print(\"Key not found!\")"
   ]
  },
  {
   "cell_type": "markdown",
   "id": "a74511f5-d676-42ff-b227-6c2d7535aad0",
   "metadata": {},
   "source": [
    "## 20. How would you open a file and read its contents using a context manager in Python?"
   ]
  },
  {
   "cell_type": "code",
   "execution_count": 23,
   "id": "5379138e-13a0-4464-80af-aaf1f9114d68",
   "metadata": {},
   "outputs": [
    {
     "name": "stdout",
     "output_type": "stream",
     "text": [
      "Hello, World!New data\n",
      "\n"
     ]
    }
   ],
   "source": [
    "with open('file.txt', 'r') as f:\n",
    "    print(f.read())"
   ]
  },
  {
   "cell_type": "markdown",
   "id": "605c5e47-dd73-40a0-b2f9-45dd6d3ea102",
   "metadata": {},
   "source": [
    "## 21. Write a Python program that reads a file and prints the number of occurrences of a specific word."
   ]
  },
  {
   "cell_type": "code",
   "execution_count": 24,
   "id": "86dbdf8f-adbb-4f43-a255-963478f8f92d",
   "metadata": {},
   "outputs": [
    {
     "name": "stdout",
     "output_type": "stream",
     "text": [
      "1\n"
     ]
    }
   ],
   "source": [
    "with open('file.txt', 'r') as f:\n",
    "    content = f.read()\n",
    "print(content.count('Hello'))\n"
   ]
  },
  {
   "cell_type": "markdown",
   "id": "c8354c70-c066-4d80-849c-02a7950708a0",
   "metadata": {},
   "source": [
    "## 22. How can you check if a file is empty before attempting to read its contents?"
   ]
  },
  {
   "cell_type": "code",
   "execution_count": 25,
   "id": "b0b0a24d-6e88-42f3-8d6f-84543f9f4ae8",
   "metadata": {},
   "outputs": [],
   "source": [
    "import os\n",
    "if os.path.getsize('file.txt') == 0:\n",
    "    print(\"File is empty!\")"
   ]
  },
  {
   "cell_type": "markdown",
   "id": "ad22f152-328d-4deb-96f9-6aff654d367f",
   "metadata": {},
   "source": [
    "## 23. Write a Python program that writes to a log file when an error occurs during file handling."
   ]
  },
  {
   "cell_type": "code",
   "execution_count": 26,
   "id": "2c17cfa0-65ad-4e51-9fd9-0fc73c31d514",
   "metadata": {},
   "outputs": [],
   "source": [
    "try:\n",
    "    with open('file1.txt', 'r') as f:\n",
    "        print(f.read())\n",
    "except Exception as e:\n",
    "    logging.error(f\"File error: {e}\")\n"
   ]
  },
  {
   "cell_type": "code",
   "execution_count": 27,
   "id": "69a82d67-b874-4395-b527-37f8b301a0a0",
   "metadata": {},
   "outputs": [],
   "source": [
    "logging.shutdown()"
   ]
  },
  {
   "cell_type": "code",
   "execution_count": null,
   "id": "61a1dbf2-4645-4b8f-83b0-317efa27b815",
   "metadata": {},
   "outputs": [],
   "source": []
  }
 ],
 "metadata": {
  "kernelspec": {
   "display_name": "Python 3 (ipykernel)",
   "language": "python",
   "name": "python3"
  },
  "language_info": {
   "codemirror_mode": {
    "name": "ipython",
    "version": 3
   },
   "file_extension": ".py",
   "mimetype": "text/x-python",
   "name": "python",
   "nbconvert_exporter": "python",
   "pygments_lexer": "ipython3",
   "version": "3.12.2"
  }
 },
 "nbformat": 4,
 "nbformat_minor": 5
}
