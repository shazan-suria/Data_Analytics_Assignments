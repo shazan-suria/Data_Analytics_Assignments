{
 "cells": [
  {
   "cell_type": "markdown",
   "id": "1594533e-b00a-4ae1-8f14-fae2fa6eca15",
   "metadata": {},
   "source": [
    "# Data Types and Structures Questions"
   ]
  },
  {
   "cell_type": "markdown",
   "id": "63dcbff1-f631-4ae1-9ea2-38a823d4012a",
   "metadata": {},
   "source": [
    "## 1. What are data structures, and why are they important?"
   ]
  },
  {
   "cell_type": "code",
   "execution_count": 1,
   "id": "3e2a56f4-e239-473e-9ad2-bdfae7b74d45",
   "metadata": {},
   "outputs": [],
   "source": [
    "# Data structures are specialized ways of organizing and storing data in a computer\n",
    "# so that it can be used efficiently. Think of them as containers that hold data in a structured format.\n",
    "# Here are some key data structures in Python :\n",
    "# List\n",
    "# Tuple\n",
    "# Set\n",
    "# Dictionary\n",
    "# String"
   ]
  },
  {
   "cell_type": "markdown",
   "id": "8e580587-4adb-4206-befd-c9f6bf8d5499",
   "metadata": {},
   "source": [
    " ## 2. Explain the difference between mutable and immutable data types with examples."
   ]
  },
  {
   "cell_type": "code",
   "execution_count": 2,
   "id": "18b4fa42-f304-49e9-8024-0b56ce368960",
   "metadata": {},
   "outputs": [],
   "source": [
    "# Certainly! In Python, the terms \"mutable\" and \"immutable\" refer to whether an object's state or content can be changed after it is created.\n",
    "\n",
    "# Mutable Data Types:\n",
    "# Mutable objects can be modified after their creation.\n",
    "# This means you can change, add, or remove elements without creating a new object.\n",
    "\n",
    "# Examples:\n",
    "# List\n",
    "\n",
    "my_list = [1, 2, 3]\n",
    "my_list.append(4)  # my_list is now [1, 2, 3, 4]\n",
    "my_list[1] = 5     # my_list is now [1, 5, 3, 4]\n",
    "\n",
    "# Immutable Data Types:\n",
    "# Immutable objects, once created, cannot be changed.\n",
    "\n",
    "# Examples:\n",
    "# Tuple\n",
    "\n",
    "my_tuple = (1, 2, 3)\n",
    "# Any attempt to change the elements will result in an error\n",
    "# my_tuple[1] = 4  # This will raise a TypeError"
   ]
  },
  {
   "cell_type": "markdown",
   "id": "2a380391-f551-4ed1-b19c-e5d8322b92c2",
   "metadata": {},
   "source": [
    "## 3. What are the main differences between lists and tuples in Python?"
   ]
  },
  {
   "cell_type": "code",
   "execution_count": 3,
   "id": "df08a0e4-938b-4e01-97f5-0aacef0ae634",
   "metadata": {},
   "outputs": [],
   "source": [
    "# Main differences between lists and tuples in Python are Mutability,Use Cases and Performance\n",
    "\n",
    "# Mutability:\n",
    "\n",
    "# Lists:\n",
    "# Mutable. You can change, add, or remove elements after the list has been created.\n",
    "\n",
    "# Tuples:\n",
    "# Immutable. Once a tuple is created, you cannot change its elements.\n",
    "# You need to create a new tuple if you want to change the content.\n",
    "\n",
    "# Use Cases:\n",
    "\n",
    "# Lists:\n",
    "# Preferred when you need a collection of items that can change dynamically.\n",
    "# They are versatile and used for general purposes.\n",
    "\n",
    "# Tuples:\n",
    "# Preferred for fixed collections of items, such as coordinates,\n",
    "# or when you want to ensure the data remains constant. \n",
    "# Their immutability can be beneficial for maintaining data integrity.\n",
    "\n",
    "# Performance:\n",
    "# Lists:\n",
    "# Slightly slower for operations that involve adding or removing elements,\n",
    "# as they require resizing and memory reallocation.\n",
    "\n",
    "# Tuples:\n",
    "# Faster because of their immutability.\n",
    "# They can be used as keys in dictionaries because their hash value doesn't change."
   ]
  },
  {
   "cell_type": "markdown",
   "id": "e8e2b07c-aef8-4117-b1db-92c4e3205443",
   "metadata": {},
   "source": [
    "## 4. Describe how dictionaries store data."
   ]
  },
  {
   "cell_type": "code",
   "execution_count": 4,
   "id": "1accbe55-2894-46f5-8afd-cdebf14c4f4c",
   "metadata": {},
   "outputs": [
    {
     "data": {
      "text/plain": [
       "{'name': 'Alice', 'age': 30, 'city': 'New York'}"
      ]
     },
     "execution_count": 4,
     "metadata": {},
     "output_type": "execute_result"
    }
   ],
   "source": [
    "# Dictionaries in Python store data as key-value pairs. \n",
    "# This structure allows you to efficiently retrieve, update, and manage data. \n",
    "# Here's a closer look at how dictionaries work and how they store data:\n",
    "\n",
    "# Structure:\n",
    "\n",
    "# Keys:\n",
    "# Unique identifiers used to access the values. \n",
    "# Keys must be immutable, such as strings, numbers, or tuples.\n",
    "\n",
    "# Values:\n",
    "# Data associated with the keys. \n",
    "# Values can be of any type, including other dictionaries.\n",
    "\n",
    "# Example:\n",
    "\n",
    "my_dict = {\n",
    "    'name': 'Alice',\n",
    "    'age': 30,\n",
    "    'city': 'New York'\n",
    "}\n",
    "my_dict"
   ]
  },
  {
   "cell_type": "markdown",
   "id": "28230d47-38b2-4466-8e40-efc2e14e5773",
   "metadata": {},
   "source": [
    "## 5. Why might you use a set instead of a list in Python?"
   ]
  },
  {
   "cell_type": "code",
   "execution_count": 5,
   "id": "b806156c-35a0-4320-bc65-a0efae1ea95d",
   "metadata": {},
   "outputs": [],
   "source": [
    "# Uniqueness:\n",
    "\n",
    "# Sets:\n",
    "# Automatically enforce uniqueness. They do not allow duplicate elements.\n",
    "# If you add a duplicate element, it will simply be ignored.\n",
    "\n",
    "# Lists:\n",
    "# Can contain duplicates. If you need to ensure all elements are unique,\n",
    "# you'll have to manually check and remove duplicates."
   ]
  },
  {
   "cell_type": "markdown",
   "id": "60bc7627-bbb6-482a-8e34-5ce72c4dcadc",
   "metadata": {},
   "source": [
    "## 6. What is a string in Python, and how is it different from a list?"
   ]
  },
  {
   "cell_type": "code",
   "execution_count": 6,
   "id": "517cb5ee-4e69-4341-b025-10a50b0480c2",
   "metadata": {},
   "outputs": [],
   "source": [
    "# String:\n",
    "# A string in Python is a sequence of characters enclosed within \n",
    "# single quotes ('), double quotes (\"), or triple quotes (''' \"\"\").\n",
    "# Strings are used for textual data representation and manipulation.\n",
    "# Strings are immutable\n",
    "\n",
    "# Example of string:\n",
    "my_string = \"Hello, World!\"\n",
    "\n",
    "# List:\n",
    "# A sequence of elements, which can be of any data type (numbers, strings, other lists, etc.).\n",
    "# Lists are Mutable\n",
    "\n",
    "# Example of list:\n",
    "my_list = [1, 2, 3, \"Hello\"]"
   ]
  },
  {
   "cell_type": "markdown",
   "id": "a410d549-baea-49c4-b470-2818e4052058",
   "metadata": {},
   "source": [
    "## 7. How do tuples ensure data integrity in Python"
   ]
  },
  {
   "cell_type": "code",
   "execution_count": 7,
   "id": "da09035a-6a7b-4407-8680-a20065c9f2e5",
   "metadata": {},
   "outputs": [],
   "source": [
    "# Tuples ensure data integrity in Python by being immutable,\n",
    "# meaning once they are created, their elements cannot be changed.\n",
    "# This immutability provides several benefits that contribute to data integrity:"
   ]
  },
  {
   "cell_type": "markdown",
   "id": "e57fad1f-ee83-4826-8037-c27e9e39e161",
   "metadata": {},
   "source": [
    "## 8. What is a hash table, and how does it relate to dictionaries in Python?"
   ]
  },
  {
   "cell_type": "code",
   "execution_count": 8,
   "id": "c3d66948-5fc8-4570-b00c-93201a271e5a",
   "metadata": {},
   "outputs": [],
   "source": [
    "# A hash table is a data structure that maps keys to values using a hash function.\n",
    "# This function computes an index into an array of buckets or slots,\n",
    "# from which the desired value can be found.\n",
    "# Hash tables are efficient for lookups, insertions, and deletions.\n",
    "\n",
    "# In Python, dictionaries are implemented using hash tables. \n",
    "# When you create a dictionary, Python uses a hash function to determine where to store\n",
    "# the key-value pairs. This allows for fast access to values based on their keys."
   ]
  },
  {
   "cell_type": "markdown",
   "id": "bd9cd91c-c4b1-4ebc-ab21-36a42bc6a974",
   "metadata": {},
   "source": [
    "## 9. Can lists contain different data types in Python?"
   ]
  },
  {
   "cell_type": "code",
   "execution_count": 9,
   "id": "ed05eb6b-ad80-43de-9d71-d6c4e9f5f6b6",
   "metadata": {},
   "outputs": [
    {
     "name": "stdout",
     "output_type": "stream",
     "text": [
      "1\n",
      "Hello\n",
      "3.14\n",
      "[2, 4, 6]\n"
     ]
    }
   ],
   "source": [
    "# Yes, lists in Python are versatile and can contain elements of different data types.\n",
    "# This means you can have integers, strings, floats, and even other lists or objects in the same list. \n",
    "# Here's an example:\n",
    "\n",
    "my_list = [1, 'Hello', 3.14, [2, 4, 6]]\n",
    "\n",
    "# Accessing elements\n",
    "print(my_list[0])  # Output: 1\n",
    "print(my_list[1])  # Output: Hello\n",
    "print(my_list[2])  # Output: 3.14\n",
    "print(my_list[3])  # Output: [2, 4, 6]"
   ]
  },
  {
   "cell_type": "markdown",
   "id": "692de5b4-8223-4ad4-9cee-661cb36d465c",
   "metadata": {},
   "source": [
    "## 10. Explain why strings are immutable in Python."
   ]
  },
  {
   "cell_type": "code",
   "execution_count": 10,
   "id": "f091d886-a318-44fa-beac-cde3739ebd5a",
   "metadata": {},
   "outputs": [],
   "source": [
    "# Strings in Python are immutable, meaning they cannot be changed once created.\n",
    "# This design choice is made for several reasons:\n",
    "\n",
    "# Efficiency: Allows Python to optimize memory usage.\n",
    "\n",
    "# Thread Safety: Prevents data corruption in multi-threaded environments.\n",
    "\n",
    "# Consistency: Ensures the integrity of strings used as keys in dictionaries.\n",
    "\n",
    "# Simplicity: Avoids unintended side effects.\n",
    "\n",
    "# To modify a string, you need to create a new one.\n",
    "# For example, concatenating two strings results in a new string, while the original remains unchanged."
   ]
  },
  {
   "cell_type": "markdown",
   "id": "3a3f3f3e-db10-4ea8-88ea-50175a9563dc",
   "metadata": {},
   "source": [
    "## 11. What advantages do dictionaries offer over lists for certain tasks?"
   ]
  },
  {
   "cell_type": "code",
   "execution_count": 11,
   "id": "fa83dc00-c567-4a57-847b-24cc54318ef6",
   "metadata": {},
   "outputs": [],
   "source": [
    "# Dictionaries and lists in Python each have their own strengths,\n",
    "# but dictionaries offer several advantages for certain tasks:\n",
    "\n",
    "# Fast Lookups:\n",
    "# Dictionaries can quickly retrieve a value using its key without searching through the entire structure.\n",
    "\n",
    "# Key-Value Pairs:\n",
    "# Unlike lists, dictionaries store data as key-value pairs,\n",
    "# making it easy to associate values with unique identifiers.\n",
    "# This is particularly useful for tasks that involve mapping or indexing.\n",
    "\n",
    "# Data Organization:\n",
    "# Dictionaries allow for more structured and readable code,\n",
    "# especially when dealing with complex data that needs to be referenced by\n",
    "# names or labels rather than by numerical index positions.\n",
    "\n",
    "# Flexibility:\n",
    "# With dictionaries, you can store diverse and complex data types, including lists,\n",
    "# other dictionaries, and objects, making them highly flexible for various programming tasks."
   ]
  },
  {
   "cell_type": "markdown",
   "id": "0c99b56a-2b21-4f48-9271-563386fdd609",
   "metadata": {},
   "source": [
    "## 12. Describe a scenario where using a tuple would be preferable over a list."
   ]
  },
  {
   "cell_type": "code",
   "execution_count": 12,
   "id": "e5a454b6-b2a7-417d-ba32-ec3c870cb901",
   "metadata": {},
   "outputs": [],
   "source": [
    "# A tuple is preferable over a list when you need an immutable sequence of elements. \n",
    "# For example, tuples are ideal for storing fixed data like coordinates (latitude, longitude)\n",
    "# or RGB color values, where the values should not change.\n",
    "\n",
    "# Using a tuple for coordinates\n",
    "location = (20.9474, 70.3667)\n",
    "\n",
    "# Using a tuple for RGB color values\n",
    "color = (255, 165, 0)  # Orange color"
   ]
  },
  {
   "cell_type": "markdown",
   "id": "07703a9a-74a0-4254-b3cb-ec0bc6cc3871",
   "metadata": {},
   "source": [
    "## 13. How do sets handle duplicate values in Python?"
   ]
  },
  {
   "cell_type": "code",
   "execution_count": 13,
   "id": "b9116510-d883-4d5a-86bd-6cea4ba190fc",
   "metadata": {},
   "outputs": [
    {
     "name": "stdout",
     "output_type": "stream",
     "text": [
      "{1, 2, 3, 4, 5}\n"
     ]
    }
   ],
   "source": [
    "# In Python, sets automatically handle duplicate values by only storing unique elements.\n",
    "# When you add elements to a set, any duplicates are discarded, ensuring that each element is unique.\n",
    "\n",
    "# Example:\n",
    "\n",
    "# Creating a set with duplicate values\n",
    "my_set = {1, 2, 2, 3, 4, 4, 4, 5}\n",
    "\n",
    "# Printing the set\n",
    "print(my_set)  # Output: {1, 2, 3, 4, 5}"
   ]
  },
  {
   "cell_type": "markdown",
   "id": "f551f745-f1ee-45b9-9169-68a8f9eac97e",
   "metadata": {},
   "source": [
    "## 14. How does the “in” keyword work differently for lists and dictionaries?"
   ]
  },
  {
   "cell_type": "code",
   "execution_count": 14,
   "id": "bb2c8c21-103d-4386-ace3-42c5ae63103b",
   "metadata": {},
   "outputs": [
    {
     "name": "stdout",
     "output_type": "stream",
     "text": [
      "True\n",
      "False\n",
      "True\n",
      "False\n",
      "True\n"
     ]
    }
   ],
   "source": [
    "# The in keyword checks for the presence of an element in both lists and dictionaries,\n",
    "# but it operates differently depending on the data structure\n",
    "\n",
    "# In Lists:\n",
    "\n",
    "# In a list, in checks if a specific value is present.\n",
    "# It scans through the list to find the element.\n",
    "\n",
    "# Example:\n",
    "my_list = [1, 2, 3, 4, 5]\n",
    "print(3 in my_list)  # Output: True\n",
    "print(6 in my_list)  # Output: False\n",
    "\n",
    "# In Dictionaries:\n",
    "\n",
    "# In a dictionary, in checks for the presence of a key, not a value.\n",
    "# It looks through the dictionary keys to find the specified key.\n",
    "\n",
    "# Example:\n",
    "my_dict = {'a': 1, 'b': 2, 'c': 3}\n",
    "print('b' in my_dict)  # Output: True\n",
    "print(2 in my_dict)    # Output: False\n",
    "\n",
    "# To check for a value in a dictionary, you need to use values():\n",
    "\n",
    "print(2 in my_dict.values())  # Output: True"
   ]
  },
  {
   "cell_type": "markdown",
   "id": "451ce97d-bc96-4cd5-8bd5-7064aad62ca8",
   "metadata": {},
   "source": [
    "## 15. Can you modify the elements of a tuple? Explain why or why not."
   ]
  },
  {
   "cell_type": "code",
   "execution_count": 15,
   "id": "6fcdf4c7-8ac3-4a73-bd2a-dc4a765deca0",
   "metadata": {},
   "outputs": [],
   "source": [
    "# No, you cannot modify the elements of a tuple in Python because tuples are immutable.\n",
    "# Once a tuple is created, its elements cannot be changed, added, or removed."
   ]
  },
  {
   "cell_type": "markdown",
   "id": "a3c0ce1d-dbf0-492d-b730-d9043fe44b75",
   "metadata": {},
   "source": [
    "## 16. What is a nested dictionary, and give an example of its use case?"
   ]
  },
  {
   "cell_type": "code",
   "execution_count": 16,
   "id": "e49b53e8-5c96-46fc-8fc6-447a5e8b56c6",
   "metadata": {},
   "outputs": [
    {
     "name": "stdout",
     "output_type": "stream",
     "text": [
      "B+\n"
     ]
    }
   ],
   "source": [
    "# A nested dictionary is a dictionary where the value of a key is another dictionary. \n",
    "# This allows you to create complex data structures for representing hierarchical data or relationships.\n",
    "\n",
    "# Example of a Nested Dictionary:\n",
    "\n",
    "# Suppose you want to store information about students and their subjects. \n",
    "# Each student has a name and a dictionary of subjects with their corresponding grades:\n",
    "\n",
    "students = {\n",
    "    'John': {\n",
    "        'Math': 'A',\n",
    "        'Science': 'B+',\n",
    "        'History': 'A-'\n",
    "    },\n",
    "    'Mary': {\n",
    "        'Math': 'A-',\n",
    "        'Science': 'A',\n",
    "        'History': 'B'\n",
    "    },\n",
    "    'Peter': {\n",
    "        'Math': 'B+',\n",
    "        'Science': 'B',\n",
    "        'History': 'A'\n",
    "    }\n",
    "}\n",
    "\n",
    "# Accessing John's Science grade\n",
    "john_science_grade = students['John']['Science']\n",
    "print(john_science_grade)  # Output: B+"
   ]
  },
  {
   "cell_type": "markdown",
   "id": "771b64f0-0e58-4247-b1b7-18bce61b416c",
   "metadata": {},
   "source": [
    "## 17. Describe the time complexity of accessing elements in a dictionary."
   ]
  },
  {
   "cell_type": "code",
   "execution_count": 17,
   "id": "ee6002b2-6599-4c72-8556-11569fb2a2d0",
   "metadata": {},
   "outputs": [],
   "source": [
    "# Accessing elements in a Python dictionary is generally very efficient,\n",
    "# thanks to its underlying hash table implementation.\n",
    "\n",
    "# Time Complexity:\n",
    "\n",
    "# Average Case:\n",
    "# The average time complexity for accessing an element by key is O(1) (constant time).\n",
    "# This means that, on average, you can retrieve a value in a dictionary in constant time \n",
    "# regardless of the number of elements it contains.\n",
    "\n",
    "# Worst Case: \n",
    "# In the worst-case scenario, the time complexity can degrade to O(n),\n",
    "# where n is the number of elements in the dictionary.\n",
    "# This situation occurs when there are many hash collisions,\n",
    "# but Python's hash function and collision resolution strategies minimize the likelihood of this happening.\n"
   ]
  },
  {
   "cell_type": "markdown",
   "id": "654c2fd8-8921-4200-9603-b2fceedd2ef2",
   "metadata": {},
   "source": [
    "## 18. In what situations are lists preferred over dictionaries"
   ]
  },
  {
   "cell_type": "code",
   "execution_count": 18,
   "id": "da0184ce-dae2-47e9-8ef7-30d1d60b81c5",
   "metadata": {},
   "outputs": [],
   "source": [
    "# When it comes to choosing between lists and dictionaries, the decision largely depends on the specificneeds of your data structure.\n",
    "# Here are some situations where lists are generally preferred over dictionaries:\n",
    "\n",
    "# Ordered Data:\n",
    "# Lists maintain the order of elements, which can be important if you need to process items in a specific sequence.\n",
    "\n",
    "# Simple Collection:\n",
    "# If you simply need to store a collection of items without needing to associate a unique key with each item, lists are more suitable.\n",
    "\n",
    "# Index-Based Access:\n",
    "# Lists allow you to access elements by their position (index), making it easy to retrieve items by their location.\n",
    "\n",
    "# Homogeneous Data: \n",
    "# Lists are ideal for storing a collection of items of the same type, such as a list of integers or strings.\n",
    "\n",
    "# Iterative Operations: Lists are optimized for operations that involve iterating over elements, such as sorting, filtering, or applying a function to each item."
   ]
  },
  {
   "cell_type": "markdown",
   "id": "534d2674-c1ed-49cf-afe7-36e134b55d6a",
   "metadata": {},
   "source": [
    "## 19. Why are dictionaries considered unordered, and how does that affect data retrieval"
   ]
  },
  {
   "cell_type": "code",
   "execution_count": 19,
   "id": "9c502b54-0ca7-44c2-82ce-fe8564f8a460",
   "metadata": {},
   "outputs": [],
   "source": [
    "# Dictionaries in Python are considered unordered because they store data in key-value pairs without maintaining any particular order.\n",
    "# Unlike lists, which preserve the order of elements based on their insertion,\n",
    "# dictionaries focus on quick access and retrieval of values based on their keys. \n",
    "# Here’s how this characteristic affects data retrieval:\n",
    "\n",
    "# Key-Based Access:\n",
    "# In a dictionary, you access values by their unique keys rather than by their position.\n",
    "# This means you can't rely on the order of items when you're iterating through the dictionary.\n",
    "\n",
    "# Fast Lookups: \n",
    "# Dictionaries are optimized for fast lookups.\n",
    "# Accessing a value using a key is generally faster than searching through a list to find a particular element, especially in large datasets.\n",
    "\n",
    "# No Indexing:\n",
    "# Since dictionaries don't maintain the order of their elements,\n",
    "# you can't use indexing to access items. Instead, you use keys,\n",
    "# which need to be unique within the dictionary."
   ]
  },
  {
   "cell_type": "markdown",
   "id": "4147ba1d-4ad3-4b80-9089-5f26260b0c53",
   "metadata": {},
   "source": [
    "## 20. Explain the difference between a list and a dictionary in terms of data retrieval."
   ]
  },
  {
   "cell_type": "code",
   "execution_count": 20,
   "id": "b3bb214b-3038-4d9b-b16e-18c7595aa9d6",
   "metadata": {},
   "outputs": [],
   "source": [
    "# Lists\n",
    "# Index-Based Access: Data in a list is retrieved using an index, which represents the position of an element in the list.\n",
    "# Indexes are zero-based, meaning the first element is accessed with index 0.\n",
    "\n",
    "# Ordered: Elements are stored in the order they are inserted, and this order is maintained during retrieval.\n",
    "\n",
    "# Performance: Accessing elements by their index is generally very fast (constant time, O(1)).\n",
    "\n",
    "# Dictionaries\n",
    "# Key-Based Access: Data in a dictionary is retrieved using a unique key rather than an index. Each key maps to a specific value.\n",
    "\n",
    "# Unordered: Unlike lists, dictionaries do not maintain the order of their elements based on insertion (although in Python 3.7+ insertion order is preserved).\n",
    "\n",
    "# Performance: Retrieving values by key is very efficient and typically faster for large datasets (average time complexity is O(1))."
   ]
  },
  {
   "cell_type": "markdown",
   "id": "4c8e5ee2-e115-462b-a945-64064d2dd553",
   "metadata": {},
   "source": [
    "# Practical Questions"
   ]
  },
  {
   "cell_type": "markdown",
   "id": "b8d99175-338f-49c5-9ba6-f96a95deb8ab",
   "metadata": {},
   "source": [
    "## 1. Write a code to create a string with your name and print it."
   ]
  },
  {
   "cell_type": "code",
   "execution_count": 21,
   "id": "d3dfa694-3746-4778-8d1b-e00c10e9aa60",
   "metadata": {},
   "outputs": [
    {
     "name": "stdout",
     "output_type": "stream",
     "text": [
      "Shazan\n"
     ]
    }
   ],
   "source": [
    "name = \"Shazan\"\n",
    "print(name)"
   ]
  },
  {
   "cell_type": "markdown",
   "id": "471b7f9f-7226-4559-be94-37304ca4f6df",
   "metadata": {},
   "source": [
    "## 2. Write a code to find the length of the string \"Hello World\"."
   ]
  },
  {
   "cell_type": "code",
   "execution_count": 22,
   "id": "f4791a39-5408-4af7-8bc4-b1763ec1e117",
   "metadata": {},
   "outputs": [
    {
     "data": {
      "text/plain": [
       "11"
      ]
     },
     "execution_count": 22,
     "metadata": {},
     "output_type": "execute_result"
    }
   ],
   "source": [
    "len(\"Hello World\")"
   ]
  },
  {
   "cell_type": "markdown",
   "id": "23e92b7e-e6a0-4c3c-a96e-f348b2022ce9",
   "metadata": {},
   "source": [
    "## 3. Write a code to slice the first 3 characters from the string \"Python Programming\"."
   ]
  },
  {
   "cell_type": "code",
   "execution_count": 23,
   "id": "5f9b768d-2745-4e7f-bbdd-e8a86379ae9e",
   "metadata": {},
   "outputs": [
    {
     "data": {
      "text/plain": [
       "'Pyt'"
      ]
     },
     "execution_count": 23,
     "metadata": {},
     "output_type": "execute_result"
    }
   ],
   "source": [
    "\"Python Programming\"[:3]"
   ]
  },
  {
   "cell_type": "markdown",
   "id": "56baf064-f0da-4976-a0cf-ce20b530a817",
   "metadata": {},
   "source": [
    "## 4. Write a code to convert the string \"hello\" to uppercase."
   ]
  },
  {
   "cell_type": "code",
   "execution_count": 24,
   "id": "fd63d754-663b-4c6d-82ad-b3711dc38142",
   "metadata": {},
   "outputs": [
    {
     "data": {
      "text/plain": [
       "'HELLO'"
      ]
     },
     "execution_count": 24,
     "metadata": {},
     "output_type": "execute_result"
    }
   ],
   "source": [
    "\"hello\".upper()"
   ]
  },
  {
   "cell_type": "markdown",
   "id": "9e237d34-7a7b-4c2f-a14e-22ba4e5e0820",
   "metadata": {},
   "source": [
    "## 5. Write a code to replace the word \"apple\" with \"orange\" in the string \"I like apple\""
   ]
  },
  {
   "cell_type": "code",
   "execution_count": 25,
   "id": "391d3af0-6659-4358-83fb-49c2f784bf3e",
   "metadata": {},
   "outputs": [
    {
     "data": {
      "text/plain": [
       "'I like orange'"
      ]
     },
     "execution_count": 25,
     "metadata": {},
     "output_type": "execute_result"
    }
   ],
   "source": [
    "\"I like apple\".replace(\"apple\",\"orange\")"
   ]
  },
  {
   "cell_type": "markdown",
   "id": "1c51464d-6fe1-4feb-992e-bf08a99ad5fa",
   "metadata": {},
   "source": [
    "## 6. Write a code to create a list with numbers 1 to 5 and print it."
   ]
  },
  {
   "cell_type": "code",
   "execution_count": 26,
   "id": "c57e3166-a2a6-4ae7-beea-47c1118c5705",
   "metadata": {},
   "outputs": [
    {
     "name": "stdout",
     "output_type": "stream",
     "text": [
      "[1, 2, 3, 4, 5]\n"
     ]
    }
   ],
   "source": [
    "l = list(range(1,6))\n",
    "print(l)"
   ]
  },
  {
   "cell_type": "markdown",
   "id": "93cfd6a5-d4f9-41ab-ae70-ee2865177da8",
   "metadata": {},
   "source": [
    "## 7. Write a code to append the number 10 to the list [1, 2, 3, 4]."
   ]
  },
  {
   "cell_type": "code",
   "execution_count": 27,
   "id": "e0d00589-204e-449e-8391-0e9c9432812f",
   "metadata": {},
   "outputs": [
    {
     "name": "stdout",
     "output_type": "stream",
     "text": [
      "[1, 2, 3, 4, 10]\n"
     ]
    }
   ],
   "source": [
    "l1 = [1,2,3,4]\n",
    "l1.append(10)\n",
    "print(l1)"
   ]
  },
  {
   "cell_type": "markdown",
   "id": "cb8dd7bf-857c-475b-b125-bb641b765548",
   "metadata": {},
   "source": [
    "## 8. Write a code to remove the number 3 from the list [1, 2, 3, 4, 5]."
   ]
  },
  {
   "cell_type": "code",
   "execution_count": 28,
   "id": "ef05a68e-4295-4daa-bb4c-f000d5440df3",
   "metadata": {},
   "outputs": [
    {
     "data": {
      "text/plain": [
       "[1, 2, 4, 5]"
      ]
     },
     "execution_count": 28,
     "metadata": {},
     "output_type": "execute_result"
    }
   ],
   "source": [
    "l2 = [1,2,3,4,5]\n",
    "l2.remove(3)\n",
    "l2"
   ]
  },
  {
   "cell_type": "markdown",
   "id": "f2025b67-8fae-48f1-a078-c239727b97f4",
   "metadata": {},
   "source": [
    "## 9. Write a code to access the second element in the list ['a', 'b', 'c', 'd']."
   ]
  },
  {
   "cell_type": "code",
   "execution_count": 29,
   "id": "cc9be3bb-23a3-4fa4-b633-13b1bca68985",
   "metadata": {},
   "outputs": [
    {
     "data": {
      "text/plain": [
       "'b'"
      ]
     },
     "execution_count": 29,
     "metadata": {},
     "output_type": "execute_result"
    }
   ],
   "source": [
    "l3 = ['a', 'b', 'c', 'd']\n",
    "l3[1]"
   ]
  },
  {
   "cell_type": "markdown",
   "id": "5d67c3c6-3a91-40bd-ab83-cd1cf32c9b02",
   "metadata": {},
   "source": [
    "## 10. Write a code to reverse the list [10, 20, 30, 40, 50]."
   ]
  },
  {
   "cell_type": "code",
   "execution_count": 30,
   "id": "7a3b00a6-b576-483b-8b3e-337ae2b6ee1b",
   "metadata": {},
   "outputs": [
    {
     "data": {
      "text/plain": [
       "[50, 40, 30, 20, 10]"
      ]
     },
     "execution_count": 30,
     "metadata": {},
     "output_type": "execute_result"
    }
   ],
   "source": [
    "l4 = [10, 20, 30, 40, 50]\n",
    "l4.reverse()\n",
    "l4"
   ]
  },
  {
   "cell_type": "markdown",
   "id": "0b9915ec-c6bb-45ab-b48e-9a5285f07f20",
   "metadata": {},
   "source": [
    "## 11. Write a code to create a tuple with the elements 10, 20, 30 and print it."
   ]
  },
  {
   "cell_type": "code",
   "execution_count": 31,
   "id": "163da582-496c-4a24-96dd-25a6bcc520ba",
   "metadata": {},
   "outputs": [
    {
     "name": "stdout",
     "output_type": "stream",
     "text": [
      "(10, 20, 30)\n"
     ]
    }
   ],
   "source": [
    "t = (10, 20, 30)\n",
    "print(t)"
   ]
  },
  {
   "cell_type": "markdown",
   "id": "823e0b8a-7aca-4848-b6fd-34692ad2140b",
   "metadata": {},
   "source": [
    "## 12. Write a code to access the first element of the tuple ('apple', 'banana', 'cherry')."
   ]
  },
  {
   "cell_type": "code",
   "execution_count": 32,
   "id": "0a7b438a-3ad6-4270-9081-48d98c71c225",
   "metadata": {},
   "outputs": [
    {
     "data": {
      "text/plain": [
       "'apple'"
      ]
     },
     "execution_count": 32,
     "metadata": {},
     "output_type": "execute_result"
    }
   ],
   "source": [
    "t1 =('apple', 'banana', 'cherry')\n",
    "t1[0]"
   ]
  },
  {
   "cell_type": "markdown",
   "id": "a62a500c-b4c4-47ce-afd1-17c66edefece",
   "metadata": {},
   "source": [
    "## 13. Write a code to count how many times the number 2 appears in the tuple (1, 2, 3, 2, 4, 2)."
   ]
  },
  {
   "cell_type": "code",
   "execution_count": 33,
   "id": "ce638475-4230-4b34-9151-7dcaf2a67150",
   "metadata": {},
   "outputs": [
    {
     "data": {
      "text/plain": [
       "3"
      ]
     },
     "execution_count": 33,
     "metadata": {},
     "output_type": "execute_result"
    }
   ],
   "source": [
    "t2 = (1,2,3,2,4,2)\n",
    "t2.count(2)"
   ]
  },
  {
   "cell_type": "markdown",
   "id": "f402eed4-2411-4a05-ba7a-d6da1aacdbe8",
   "metadata": {},
   "source": [
    "## 14. Write a code to find the index of the element \"cat\" in the tuple ('dog', 'cat', 'rabbit')."
   ]
  },
  {
   "cell_type": "code",
   "execution_count": 34,
   "id": "bb9e1d8b-21a6-4f4d-9204-085a7dfece62",
   "metadata": {},
   "outputs": [
    {
     "data": {
      "text/plain": [
       "1"
      ]
     },
     "execution_count": 34,
     "metadata": {},
     "output_type": "execute_result"
    }
   ],
   "source": [
    "t = ('dog', 'cat', 'rabbit')\n",
    "t.index(\"cat\")"
   ]
  },
  {
   "cell_type": "markdown",
   "id": "2b203fda-b8ff-4242-b4de-0c35c7169a90",
   "metadata": {},
   "source": [
    "## 15. Write a code to check if the element \"banana\" is in the tuple ('apple', 'orange', 'banana')."
   ]
  },
  {
   "cell_type": "code",
   "execution_count": 35,
   "id": "83925150-ad86-48d1-84b8-ab752c83d2d2",
   "metadata": {},
   "outputs": [
    {
     "data": {
      "text/plain": [
       "True"
      ]
     },
     "execution_count": 35,
     "metadata": {},
     "output_type": "execute_result"
    }
   ],
   "source": [
    "t = ('apple', 'orange', 'banana')\n",
    "\"banana\" in t"
   ]
  },
  {
   "cell_type": "markdown",
   "id": "70d9be12-47ca-4cec-a011-c7b4091860b5",
   "metadata": {},
   "source": [
    "## 16. Write a code to create a set with the elements 1, 2, 3, 4, 5 and print it."
   ]
  },
  {
   "cell_type": "code",
   "execution_count": 36,
   "id": "b1babe6b-6671-45c1-96ea-118f07a667f3",
   "metadata": {},
   "outputs": [
    {
     "name": "stdout",
     "output_type": "stream",
     "text": [
      "{1, 2, 3, 4, 5}\n"
     ]
    }
   ],
   "source": [
    "s = {1,2,3,4,5}\n",
    "print(s)"
   ]
  },
  {
   "cell_type": "markdown",
   "id": "dcb9903f-cbc2-4049-b64d-d578dd1b2a34",
   "metadata": {},
   "source": [
    "## 17. Write a code to add the element 6 to the set {1, 2, 3, 4}."
   ]
  },
  {
   "cell_type": "code",
   "execution_count": 37,
   "id": "a97dfcb6-1702-482f-a649-de0a699c22a8",
   "metadata": {},
   "outputs": [
    {
     "name": "stdout",
     "output_type": "stream",
     "text": [
      "{1, 2, 3, 4, 6}\n"
     ]
    }
   ],
   "source": [
    "s = {1,2,3,4}\n",
    "s.add(6)\n",
    "print(s)"
   ]
  },
  {
   "cell_type": "markdown",
   "id": "d54ba1d6-1c35-4d08-b599-f3d4c9f6dae1",
   "metadata": {},
   "source": [
    "## 18. Write a code to create a tuple with the elements 10, 20, 30 and print it."
   ]
  },
  {
   "cell_type": "code",
   "execution_count": 38,
   "id": "2118950b-26c9-48e9-9428-624984cc3ccb",
   "metadata": {},
   "outputs": [
    {
     "name": "stdout",
     "output_type": "stream",
     "text": [
      "(10, 20, 30)\n"
     ]
    }
   ],
   "source": [
    "t = (10, 20, 30)\n",
    "print(t)"
   ]
  },
  {
   "cell_type": "markdown",
   "id": "b581b6f0-3816-4db8-8cb5-e00b8255be50",
   "metadata": {},
   "source": [
    "## 19. Write a code to access the first element of the tuple ('apple', 'banana', 'cherry')."
   ]
  },
  {
   "cell_type": "code",
   "execution_count": 39,
   "id": "8c664130-2393-44e1-811a-b37217283160",
   "metadata": {},
   "outputs": [
    {
     "data": {
      "text/plain": [
       "'apple'"
      ]
     },
     "execution_count": 39,
     "metadata": {},
     "output_type": "execute_result"
    }
   ],
   "source": [
    "t1 =('apple', 'banana', 'cherry')\n",
    "t1[0]"
   ]
  },
  {
   "cell_type": "markdown",
   "id": "7ab7aaa3-91c4-46fa-b226-6fc79a29cd1f",
   "metadata": {},
   "source": [
    "## 20. Write a code to count how many times the number 2 appears in the tuple (1, 2, 3, 2, 4, 2)."
   ]
  },
  {
   "cell_type": "code",
   "execution_count": 40,
   "id": "fec9ff46-1af3-475f-ad68-4d1e07bed6b9",
   "metadata": {},
   "outputs": [
    {
     "data": {
      "text/plain": [
       "3"
      ]
     },
     "execution_count": 40,
     "metadata": {},
     "output_type": "execute_result"
    }
   ],
   "source": [
    "t2 = (1,2,3,2,4,2)\n",
    "t2.count(2)"
   ]
  },
  {
   "cell_type": "markdown",
   "id": "6ecb2469-e6ee-4491-90a4-1bbac45f1180",
   "metadata": {},
   "source": [
    "## 21. Write a code to find the index of the element \"cat\" in the tuple ('dog', 'cat', 'rabbit')."
   ]
  },
  {
   "cell_type": "code",
   "execution_count": 41,
   "id": "998dad67-14e0-4eba-b4dc-d16e88aa84cb",
   "metadata": {},
   "outputs": [
    {
     "data": {
      "text/plain": [
       "1"
      ]
     },
     "execution_count": 41,
     "metadata": {},
     "output_type": "execute_result"
    }
   ],
   "source": [
    "t = ('dog', 'cat', 'rabbit')\n",
    "t.index(\"cat\")"
   ]
  },
  {
   "cell_type": "markdown",
   "id": "a04c3d27-d0fa-4071-9fed-6d9eac09d147",
   "metadata": {},
   "source": [
    "## 22. Write a code to check if the element \"banana\" is in the tuple ('apple', 'orange', 'banana')."
   ]
  },
  {
   "cell_type": "code",
   "execution_count": 42,
   "id": "fab1dc6b-7f40-458a-84bc-8bd4c3acb734",
   "metadata": {},
   "outputs": [
    {
     "data": {
      "text/plain": [
       "True"
      ]
     },
     "execution_count": 42,
     "metadata": {},
     "output_type": "execute_result"
    }
   ],
   "source": [
    "t = ('apple', 'orange', 'banana')\n",
    "\"banana\" in t"
   ]
  },
  {
   "cell_type": "markdown",
   "id": "dfe0b47e-4cff-4a46-9e10-7c0c523933e6",
   "metadata": {},
   "source": [
    "## 23. Write a code to create a set with the elements 1, 2, 3, 4, 5 and print it."
   ]
  },
  {
   "cell_type": "code",
   "execution_count": 43,
   "id": "2dbc1d81-825e-487c-8198-ec394e301d6b",
   "metadata": {},
   "outputs": [
    {
     "name": "stdout",
     "output_type": "stream",
     "text": [
      "{1, 2, 3, 4, 5}\n"
     ]
    }
   ],
   "source": [
    "s = {1,2,3,4,5}\n",
    "print(s)"
   ]
  },
  {
   "cell_type": "markdown",
   "id": "f3847f9b-a5b3-4d13-bf10-16ec68ea8e01",
   "metadata": {},
   "source": [
    "## 24. Write a code to add the element 6 to the set {1, 2, 3, 4}."
   ]
  },
  {
   "cell_type": "code",
   "execution_count": 44,
   "id": "a163d3c3-3a73-45b6-b89c-de53b75624a1",
   "metadata": {},
   "outputs": [
    {
     "name": "stdout",
     "output_type": "stream",
     "text": [
      "{1, 2, 3, 4, 6}\n"
     ]
    }
   ],
   "source": [
    "s = {1,2,3,4}\n",
    "s.add(6)\n",
    "print(s)"
   ]
  },
  {
   "cell_type": "code",
   "execution_count": null,
   "id": "ad427354-8a11-47ca-bdc5-ba06dafa65a1",
   "metadata": {},
   "outputs": [],
   "source": []
  }
 ],
 "metadata": {
  "kernelspec": {
   "display_name": "Python 3 (ipykernel)",
   "language": "python",
   "name": "python3"
  },
  "language_info": {
   "codemirror_mode": {
    "name": "ipython",
    "version": 3
   },
   "file_extension": ".py",
   "mimetype": "text/x-python",
   "name": "python",
   "nbconvert_exporter": "python",
   "pygments_lexer": "ipython3",
   "version": "3.12.2"
  }
 },
 "nbformat": 4,
 "nbformat_minor": 5
}
