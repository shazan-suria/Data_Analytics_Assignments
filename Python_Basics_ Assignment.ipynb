{
 "cells": [
  {
   "cell_type": "markdown",
   "id": "f24fecf9-df3c-48c1-b153-5643a0df2e2f",
   "metadata": {},
   "source": [
    "# Python Basics Questions"
   ]
  },
  {
   "cell_type": "markdown",
   "id": "fa4f805b-b0e6-47f4-b812-c70cd9fc2080",
   "metadata": {},
   "source": [
    "## 1. What is Python, and why is it popular?"
   ]
  },
  {
   "cell_type": "code",
   "execution_count": 1,
   "id": "5da54729-2a8f-4ef9-ad96-09a36da80ba1",
   "metadata": {},
   "outputs": [],
   "source": [
    "#A1. Python is an programming language developed by Guido van Rossum.\n",
    "#    It is popular because of many reasons :\n",
    "#        Easy to learn\n",
    "#        Readable\n",
    "#        Open-source\n",
    "#        can run on many different platforms\n",
    "#        Most important : extensive collection of powerful libraries"
   ]
  },
  {
   "cell_type": "markdown",
   "id": "585760fd-ecdd-4835-b0ef-8fc567c0c21c",
   "metadata": {},
   "source": [
    "## 2. What is an interpreter in Python?"
   ]
  },
  {
   "cell_type": "code",
   "execution_count": 2,
   "id": "4b39bba7-90d4-485d-94c7-2fcad8dcfae4",
   "metadata": {},
   "outputs": [],
   "source": [
    "#A2. An interpreter in Python is a program that executes Python code line by line,\n",
    "# translating it into machine language in real-time.\n",
    "# This allows you to run your Python scripts directly without needing to compile them first, making debugging and testing simpler."
   ]
  },
  {
   "cell_type": "markdown",
   "id": "5da5da6d-9387-4659-8f9d-75b8e537f235",
   "metadata": {},
   "source": [
    "## 3.What are pre-defined keywords in Python?"
   ]
  },
  {
   "cell_type": "code",
   "execution_count": 3,
   "id": "b4925d47-8357-4ab9-a282-6648607e34e1",
   "metadata": {},
   "outputs": [],
   "source": [
    "#A3. Pre-defined keywords in Python are reserved words that have special meanings\n",
    "# and can't be used as identifiers (like variable names) in your code.\n",
    "# Ex:-if, else, while, for, def, class, import, try, except, return, True, False, None, etc."
   ]
  },
  {
   "cell_type": "markdown",
   "id": "1488aaaf-483e-4fd3-a075-b9c0d68d90df",
   "metadata": {},
   "source": [
    "## 4.Can keywords be used as variable names?"
   ]
  },
  {
   "cell_type": "code",
   "execution_count": 4,
   "id": "8472dbef-975c-45d9-8966-ffb137c7124d",
   "metadata": {},
   "outputs": [
    {
     "ename": "SyntaxError",
     "evalue": "invalid syntax (4172692198.py, line 8)",
     "output_type": "error",
     "traceback": [
      "\u001b[1;36m  Cell \u001b[1;32mIn[4], line 8\u001b[1;36m\u001b[0m\n\u001b[1;33m    for = 10  # This will raise a SyntaxError\u001b[0m\n\u001b[1;37m        ^\u001b[0m\n\u001b[1;31mSyntaxError\u001b[0m\u001b[1;31m:\u001b[0m invalid syntax\n"
     ]
    }
   ],
   "source": [
    "#A4. No, keywords in Python cannot be used as variable names.\n",
    "# This is because keywords are reserved words that have special meanings and functions in the language.\n",
    "# Using them as variable names would cause confusion for the Python interpreter,\n",
    "# as it wouldn't be able to distinguish between the intended keyword function and the variable name.\n",
    "\n",
    "# For example, trying to use a keyword like for as a variable name will result in a syntax error:\n",
    "\n",
    "for = 10  # This will raise a SyntaxError"
   ]
  },
  {
   "cell_type": "markdown",
   "id": "ae38561e-1993-4d10-94d8-db9fc42265e2",
   "metadata": {},
   "source": [
    "## 5.What is mutability in Python?"
   ]
  },
  {
   "cell_type": "code",
   "execution_count": 5,
   "id": "79ef00e9-8a96-4f03-9e4b-756b3ddaffd6",
   "metadata": {},
   "outputs": [
    {
     "name": "stdout",
     "output_type": "stream",
     "text": [
      "[10, 2, 3]\n"
     ]
    }
   ],
   "source": [
    "#A5. Mutability in Python refers to an object's ability to change its state or contents after it has been created.\n",
    "# In simpler terms, if an object's value can be altered without changing its identity, it is considered mutable.\n",
    "# If an object's value cannot be changed once it is created, it is considered immutable.\n",
    "# Examples of mutable objects in Python include:\n",
    "\n",
    "# Lists\n",
    "# Dictionaries\n",
    "# Sets\n",
    "my_list = [1, 2, 3]\n",
    "my_list[0] = 10  # Now my_list is [10, 2, 3]\n",
    "print(my_list)"
   ]
  },
  {
   "cell_type": "markdown",
   "id": "95f66c40-915c-4846-ad96-3fdacea3e48c",
   "metadata": {},
   "source": [
    "## 6.Why are lists mutable, but tuples are immutable?"
   ]
  },
  {
   "cell_type": "code",
   "execution_count": 6,
   "id": "42ecb875-ca97-477d-b70a-467306eeda18",
   "metadata": {},
   "outputs": [],
   "source": [
    "#A6. Lists and tuples in Python are designed with different use cases in mind,\n",
    "# which is why their mutability differs.\n",
    "\n",
    "# Lists\n",
    "\n",
    "# Mutable: This means you can change their content without changing their identity.\n",
    "# Use Case: Lists are meant to be collections where you need to frequently add, remove, or modify items.\n",
    "\n",
    "# Tuples\n",
    "\n",
    "# Immutable: This means once a tuple is created, its content cannot be changed.\n",
    "# Use Case: Tuples are used when you need a collection of items that should not change.\n",
    "#           This immutability ensures that the data remains constant throughout the program, \n",
    "#           making tuples a reliable option for fixed collections of items."
   ]
  },
  {
   "cell_type": "markdown",
   "id": "7f53f4d5-ed45-49e3-9c0d-d0c6a9fde590",
   "metadata": {},
   "source": [
    "## 7.What is the difference between “==” and “is” operators in Python?"
   ]
  },
  {
   "cell_type": "code",
   "execution_count": 7,
   "id": "b93a7e9b-f220-42f4-9e69-7dc463abf6d8",
   "metadata": {},
   "outputs": [
    {
     "name": "stdout",
     "output_type": "stream",
     "text": [
      "True\n",
      "False\n",
      "True\n"
     ]
    }
   ],
   "source": [
    "#A7. The \"==\" and is operators in Python are used for comparisons,\n",
    "# but they serve different purposes:\n",
    "\n",
    "# \"==\" Operator\n",
    "\n",
    "# Purpose: Checks if the values of two objects are equal.\n",
    "# Usage: Used to compare the contents of objects.\n",
    "\n",
    "# Example:\n",
    "\n",
    "a = [1, 2, 3]\n",
    "b = [1, 2, 3]\n",
    "print(a == b)  \n",
    "\n",
    "# is Operator\n",
    "\n",
    "# Purpose: Checks if two objects refer to the same memory location (identity).\n",
    "# Usage: Used to compare the identities of objects.\n",
    "\n",
    "# Example:\n",
    "\n",
    "a = [1, 2, 3]\n",
    "b = [1, 2, 3]\n",
    "print(a is b)  # Output: False, because a and b are different objects in memory.\n",
    "c = a\n",
    "print(a is c)  # Output: True, because c references the same object as a."
   ]
  },
  {
   "cell_type": "markdown",
   "id": "778f08de-51d8-4fdd-8e57-49538cd5b6d1",
   "metadata": {},
   "source": [
    "## 8.What are logical operators in Python?"
   ]
  },
  {
   "cell_type": "code",
   "execution_count": 8,
   "id": "4b57fb29-6ece-4beb-921a-f47296a90450",
   "metadata": {},
   "outputs": [
    {
     "name": "stdout",
     "output_type": "stream",
     "text": [
      "False\n",
      "True\n",
      "False\n"
     ]
    }
   ],
   "source": [
    "#A8. Logical operators in Python are used to perform logical operations on boolean values (True and False) and conditions.\n",
    "# These operators allow you to combine multiple conditions and control the flow of your programs.\n",
    "# Here are the main logical operators in Python:\n",
    "\n",
    "# and :\n",
    "# Usage: Returns True if both operands are true.\n",
    "\n",
    "# Example:\n",
    "\n",
    "a = True\n",
    "b = False\n",
    "print(a and b)  # Output: False\n",
    "\n",
    "# or :\n",
    "# Usage: Returns True if at least one of the operands is true.\n",
    "\n",
    "# Example:\n",
    "\n",
    "a = True\n",
    "b = False\n",
    "print(a or b)  # Output: True\n",
    "\n",
    "# not :\n",
    "# Usage: Returns True if the operand is false (and vice versa).\n",
    "\n",
    "# Example:\n",
    "\n",
    "a = True\n",
    "print(not a)  # Output: False"
   ]
  },
  {
   "cell_type": "markdown",
   "id": "5d79f640-81b3-45e1-820c-4a8a5985781a",
   "metadata": {},
   "source": [
    "## 9. What is type casting in Python?"
   ]
  },
  {
   "cell_type": "code",
   "execution_count": 9,
   "id": "6959f2a7-0218-4560-b1f4-ede2b3032965",
   "metadata": {},
   "outputs": [],
   "source": [
    "#A9. Type casting in Python refers to converting one data type to another.\n",
    "# This is often necessary when you need to perform operations that require a specific data type.\n",
    "# There are two main types of type casting in Python:\n",
    "\n",
    "# 1. Implicit Type Casting :\n",
    "# This is done automatically by Python when it encounters mixed types in an expression.\n",
    "# Python converts smaller data types to larger data types to avoid data loss.\n",
    "\n",
    "# 2. Explicit Type Casting :\n",
    "# This is done manually by the programmer using Python's built-in functions.\n",
    "# You can convert data from one type to another as needed.\n",
    "\n",
    "\n"
   ]
  },
  {
   "cell_type": "markdown",
   "id": "3fab8e8a-7e6b-4048-80bc-d4bca981207e",
   "metadata": {},
   "source": [
    "## 10. What is the difference between implicit and explicit type casting?"
   ]
  },
  {
   "cell_type": "code",
   "execution_count": 10,
   "id": "e3482e4c-5c98-475e-84a7-0af0b575925b",
   "metadata": {},
   "outputs": [
    {
     "name": "stdout",
     "output_type": "stream",
     "text": [
      "13.5\n",
      "10\n"
     ]
    }
   ],
   "source": [
    "#A10. 1. Implicit Type Casting :\n",
    "# This is done automatically by Python when it encounters mixed types in an expression.\n",
    "# Python converts smaller data types to larger data types to avoid data loss.\n",
    "\n",
    "# Example:\n",
    "\n",
    "x = 10  # Integer\n",
    "y = 3.5  # Float\n",
    "result = x + y  # Implicitly converts x to a float\n",
    "print(result)  # Output: 13.5\n",
    "\n",
    "\n",
    "# 2. Explicit Type Casting :\n",
    "# This is done manually by the programmer using Python's built-in functions.\n",
    "# You can convert data from one type to another as needed.\n",
    "\n",
    "# Example:\n",
    "\n",
    "x = 10.5  # Float\n",
    "y = int(x)  # # Explicit converts of Float to Integer\n",
    "print(y)  # Output: 10"
   ]
  },
  {
   "cell_type": "markdown",
   "id": "3bbcedec-1abf-4f48-9f99-c5224d959084",
   "metadata": {},
   "source": [
    "## 11. What is the purpose of conditional statements in Python?"
   ]
  },
  {
   "cell_type": "code",
   "execution_count": 11,
   "id": "d5ff61e8-100b-4f29-9891-14ae70733f67",
   "metadata": {},
   "outputs": [
    {
     "name": "stdout",
     "output_type": "stream",
     "text": [
      "You are an adult.\n",
      "Grade: B\n"
     ]
    }
   ],
   "source": [
    "#A11. Conditional statements in Python, such as if, elif, and else,\n",
    "# are used to execute different blocks of code based on certain conditions.\n",
    "# They allow your program to make decisions and run different code paths depending on whether specific criteria are met.\n",
    "\n",
    "# Key Purposes of Conditional Statements:\n",
    "# Decision Making\n",
    "\n",
    "# Example:\n",
    "\n",
    "age = 18\n",
    "if age >= 18:\n",
    "    print(\"You are an adult.\")\n",
    "else:\n",
    "    print(\"You are a minor.\")\n",
    "\n",
    "# Handling Multiple Conditions\n",
    "\n",
    "# Example:\n",
    "score = 85\n",
    "if score >= 90:\n",
    "    print(\"Grade: A\")\n",
    "elif score >= 80:\n",
    "    print(\"Grade: B\")\n",
    "elif score >= 70:\n",
    "    print(\"Grade: C\")\n",
    "else:\n",
    "    print(\"Grade: F\")"
   ]
  },
  {
   "cell_type": "markdown",
   "id": "df0bb2d0-e449-4bb7-b6ea-e3ee6bde8eaa",
   "metadata": {},
   "source": [
    "## 12.How does the elif statement work?"
   ]
  },
  {
   "cell_type": "code",
   "execution_count": 12,
   "id": "da260a4b-688c-4f7e-8f98-69024a096b2f",
   "metadata": {},
   "outputs": [
    {
     "name": "stdout",
     "output_type": "stream",
     "text": [
      "Adult\n"
     ]
    }
   ],
   "source": [
    "#A12. The elif statement in Python stands for \"else if\" and is used to check multiple conditions in sequence. \n",
    "# It allows you to handle several potential scenarios,\n",
    "# making your code more efficient and easier to read.\n",
    "# Here's a detailed breakdown of how it works:\n",
    "\n",
    "# Basic Structure\n",
    "# if condition1:\n",
    "#      Code block 1\n",
    "# elif condition2:\n",
    "#      Code block 2\n",
    "# elif condition3:\n",
    "#      Code block 3\n",
    "# else:\n",
    "#      Default code block\n",
    "\n",
    "# Example:\n",
    "\n",
    "age = 25\n",
    "\n",
    "if age < 13:\n",
    "    print(\"Child\")\n",
    "elif age < 20:\n",
    "    print(\"Teenager\")\n",
    "elif age < 65:\n",
    "    print(\"Adult\")\n",
    "else:\n",
    "    print(\"Senior\")"
   ]
  },
  {
   "cell_type": "markdown",
   "id": "7c627677-cfc3-400b-b48d-2d9f9ed7b1fc",
   "metadata": {},
   "source": [
    "## 13. What is the difference between for and while loops"
   ]
  },
  {
   "cell_type": "code",
   "execution_count": 13,
   "id": "a423db26-5e04-4af5-b6a4-ae4df98681f9",
   "metadata": {},
   "outputs": [
    {
     "name": "stdout",
     "output_type": "stream",
     "text": [
      "apple\n",
      "banana\n",
      "cherry\n",
      "Count is 0\n",
      "Count is 1\n",
      "Count is 2\n"
     ]
    }
   ],
   "source": [
    "#A13. In Python, both for and while loops are used to repeat a block of code multiple times,\n",
    "# but they are suited for different scenarios due to their unique characteristics\n",
    "# and usage patterns.\n",
    "\n",
    "# for Loop: \n",
    "\n",
    "# Purpose: The for loop iterates over a sequence (such as a list, tuple, dictionary, set, or string) \n",
    "# or other iterable objects. It is ideal for when you know the number of iterations in advance.\n",
    "\n",
    "# Structure: The for loop runs a block of code for each item in the sequence.\n",
    "\n",
    "# Use Case: It is commonly used when the exact number of iterations is known,\n",
    "# or when iterating through elements of a collection.\n",
    "\n",
    "# Example:\n",
    "\n",
    "fruits = [\"apple\", \"banana\", \"cherry\"]\n",
    "for fruit in fruits:\n",
    "    print(fruit)\n",
    "\n",
    "# while Loop\n",
    "# Purpose: The while loop repeats a block of code as long as a specified conditionis True.\n",
    "# It is suitable when the number of iterations is not known beforehand and depends on a condition being met.\n",
    "\n",
    "# Structure: The while loop checks the condition before executing the block of code.\n",
    "# If the condition remains True, the block of code is executed repeatedly.\n",
    "\n",
    "# Use Case: It is useful for situations where the loop should continue until a particular condition changes,\n",
    "# such as waiting for user input or reaching a specific state in the program.\n",
    "\n",
    "# Example:\n",
    "\n",
    "count = 0\n",
    "while count < 3:\n",
    "    print(\"Count is\", count)\n",
    "    count += 1"
   ]
  },
  {
   "cell_type": "markdown",
   "id": "cee057df-7780-4a6e-bd7d-a357b41eb3e7",
   "metadata": {},
   "source": [
    "## 14. Describe a scenario where a while loop is more suitable than a for loop."
   ]
  },
  {
   "cell_type": "code",
   "execution_count": 37,
   "id": "5156bab1-ff0c-4312-83ab-6c5c082a6a91",
   "metadata": {},
   "outputs": [
    {
     "name": "stdin",
     "output_type": "stream",
     "text": [
      "Guess the secret number (between 1 and 10):  6\n",
      "Guess the secret number (between 1 and 10):  7\n"
     ]
    },
    {
     "name": "stdout",
     "output_type": "stream",
     "text": [
      "Congratulations! You've guessed the correct number.\n"
     ]
    }
   ],
   "source": [
    "# A while loop is particularly suitable in scenarios where the number of iterations is not known\n",
    "# beforehand and depends on a condition that might change during the execution of the loop.\n",
    "# Here's a detailed scenario to illustrate this:\n",
    "\n",
    "# Imagine you are designing a simple game where the user has to guess a secret number.\n",
    "# The game keeps asking the user to input a guess until they correctly guess the number.\n",
    "# This scenario is perfect for a while loop because the number of attempts the user will need is unknown.\n",
    "\n",
    "# Example:\n",
    "\n",
    "secret_number = 7\n",
    "user_input = -1  # Initialize with a number that is not the secret number\n",
    "\n",
    "while user_input != secret_number:\n",
    "    user_input = int(input(\"Guess the secret number (between 1 and 10): \"))\n",
    "\n",
    "print(\"Congratulations! You've guessed the correct number.\")\n"
   ]
  },
  {
   "cell_type": "markdown",
   "id": "328b8e66-9580-43ef-8797-9351b8a3614a",
   "metadata": {},
   "source": [
    " # Practical Questions:"
   ]
  },
  {
   "cell_type": "markdown",
   "id": "76cee2fb-7d76-4c23-ac1c-48d760efbf36",
   "metadata": {},
   "source": [
    "## 1. Write a Python program to print \"Hello, World!\""
   ]
  },
  {
   "cell_type": "code",
   "execution_count": 15,
   "id": "25dd80fd-88bd-4d6f-bb69-434cd4b348c6",
   "metadata": {},
   "outputs": [
    {
     "name": "stdout",
     "output_type": "stream",
     "text": [
      "Hello,World!\n"
     ]
    }
   ],
   "source": [
    "print(\"Hello,World!\")"
   ]
  },
  {
   "cell_type": "markdown",
   "id": "64a27201-caa3-4785-bfc6-cd535fab75c6",
   "metadata": {},
   "source": [
    "## 2. Write a Python program that displays your name and age."
   ]
  },
  {
   "cell_type": "code",
   "execution_count": 16,
   "id": "a82de003-fb36-4985-ae4f-6d14fce02bd3",
   "metadata": {},
   "outputs": [
    {
     "name": "stdout",
     "output_type": "stream",
     "text": [
      "Name : Shazan\n",
      "Age : 19\n"
     ]
    }
   ],
   "source": [
    "name = \"Shazan\"\n",
    "age = 19\n",
    "print(f\"Name : {name}\")\n",
    "print(f\"Age : {age}\")"
   ]
  },
  {
   "cell_type": "markdown",
   "id": "1a73bd4f-f8f4-4c0d-856e-b5966536d7f3",
   "metadata": {},
   "source": [
    "## 3. Write code to print all the pre-defined keywords in Python using the keyword library."
   ]
  },
  {
   "cell_type": "code",
   "execution_count": 17,
   "id": "72912685-fbac-465f-bb96-323d6b911bfc",
   "metadata": {},
   "outputs": [
    {
     "name": "stdout",
     "output_type": "stream",
     "text": [
      "\n",
      "Here is a list of the Python keywords.  Enter any keyword to get more help.\n",
      "\n",
      "False               class               from                or\n",
      "None                continue            global              pass\n",
      "True                def                 if                  raise\n",
      "and                 del                 import              return\n",
      "as                  elif                in                  try\n",
      "assert              else                is                  while\n",
      "async               except              lambda              with\n",
      "await               finally             nonlocal            yield\n",
      "break               for                 not                 \n",
      "\n"
     ]
    }
   ],
   "source": [
    "help(\"keywords\")"
   ]
  },
  {
   "cell_type": "markdown",
   "id": "5847e796-0a34-4d57-8e82-944ae6adc485",
   "metadata": {},
   "source": [
    "## 4. Write a program that checks if a given word is a Python keyword."
   ]
  },
  {
   "cell_type": "code",
   "execution_count": 25,
   "id": "a8f93b3d-8fa9-489c-b44c-3c9fddea671f",
   "metadata": {},
   "outputs": [
    {
     "name": "stdin",
     "output_type": "stream",
     "text": [
      "Enter a word to check if it is a Python keyword:  is\n"
     ]
    },
    {
     "name": "stdout",
     "output_type": "stream",
     "text": [
      "'is' is a Python keyword.\n"
     ]
    }
   ],
   "source": [
    "# Predefined list of Python keywords\n",
    "python_keywords = [\n",
    "    \"False\", \"None\", \"True\", \"and\", \"as\", \"assert\", \"async\", \"await\",\n",
    "    \"break\", \"class\", \"continue\", \"def\", \"del\", \"elif\", \"else\", \"except\",\n",
    "    \"finally\", \"for\", \"from\", \"global\", \"if\", \"import\", \"in\", \"is\", \"lambda\",\n",
    "    \"nonlocal\", \"not\", \"or\", \"pass\", \"raise\", \"return\", \"try\", \"while\", \"with\", \"yield\"\n",
    "]\n",
    "\n",
    "# Function to check if a word is a Python keyword\n",
    "def is_keyword(word):\n",
    "    return word in python_keywords\n",
    "\n",
    "# Input from the user\n",
    "word = input(\"Enter a word to check if it is a Python keyword: \")\n",
    "\n",
    "# Check and print the result\n",
    "if is_keyword(word):\n",
    "    print(f\"'{word}' is a Python keyword.\")\n",
    "else:\n",
    "    print(f\"'{word}' is not a Python keyword.\")\n",
    "\n",
    "# Second Method:\n",
    "\n",
    "# import keyword\n",
    "\n",
    "# def is_keyword(word):\n",
    "#     return keyword.iskeyword(word)\n",
    "\n",
    "# word = input(\"Enter a word to check if it is a Python keyword: \")\n",
    "\n",
    "# if is_keyword(word):\n",
    "#     print(f\"'{word}' is a Python keyword.\")\n",
    "# else:\n",
    "#     print(f\"'{word}' is not a Python keyword.\")"
   ]
  },
  {
   "cell_type": "markdown",
   "id": "2c631979-2389-42a2-98cf-a22688cbfd9a",
   "metadata": {},
   "source": [
    "## 5. Create a list and tuple in Python, and demonstrate how attempting to change an element works differently for each"
   ]
  },
  {
   "cell_type": "code",
   "execution_count": 26,
   "id": "b2b23b73-f6f5-4153-ac54-ab2f09ad0aae",
   "metadata": {},
   "outputs": [
    {
     "name": "stdout",
     "output_type": "stream",
     "text": [
      "Modified list: [10, 2, 3]\n"
     ]
    },
    {
     "ename": "TypeError",
     "evalue": "'tuple' object does not support item assignment",
     "output_type": "error",
     "traceback": [
      "\u001b[1;31m---------------------------------------------------------------------------\u001b[0m",
      "\u001b[1;31mTypeError\u001b[0m                                 Traceback (most recent call last)",
      "Cell \u001b[1;32mIn[26], line 8\u001b[0m\n\u001b[0;32m      6\u001b[0m tuple1 \u001b[38;5;241m=\u001b[39m (\u001b[38;5;241m1\u001b[39m,\u001b[38;5;241m2\u001b[39m,\u001b[38;5;241m3\u001b[39m,\u001b[38;5;241m5\u001b[39m,\u001b[38;5;241m4\u001b[39m)\n\u001b[0;32m      7\u001b[0m \u001b[38;5;66;03m# Modifying an element in the tuple\u001b[39;00m\n\u001b[1;32m----> 8\u001b[0m \u001b[43mtuple1\u001b[49m\u001b[43m[\u001b[49m\u001b[38;5;241;43m3\u001b[39;49m\u001b[43m]\u001b[49m \u001b[38;5;241m=\u001b[39m \u001b[38;5;241m4\u001b[39m \u001b[38;5;66;03m#Error\u001b[39;00m\n",
      "\u001b[1;31mTypeError\u001b[0m: 'tuple' object does not support item assignment"
     ]
    }
   ],
   "source": [
    "list1 = [1, 2, 3, 4, 5] \n",
    "# Modifying an element in the list\n",
    "list1[0] = 10 \n",
    "print(\"Modified list:\", my_list) # Output: [10, 2, 3, 4, 5]\n",
    "\n",
    "tuple1 = (1,2,3,5,4)\n",
    "# Modifying an element in the tuple\n",
    "tuple1[3] = 4 #Error"
   ]
  },
  {
   "cell_type": "markdown",
   "id": "92b9a9cb-12a9-4091-9561-e33af261b236",
   "metadata": {},
   "source": [
    "## 6. Write a function to demonstrate the behavior of mutable and immutable arguments"
   ]
  },
  {
   "cell_type": "code",
   "execution_count": 27,
   "id": "46d632d2-32a7-431a-af18-5ce23a316be5",
   "metadata": {},
   "outputs": [
    {
     "name": "stdout",
     "output_type": "stream",
     "text": [
      "Before function call:\n",
      "List: [1, 2, 3]\n",
      "Tuple: (1, 2, 3)\n",
      "Error: 'tuple' object does not support item assignment\n",
      "\n",
      "After function call:\n",
      "List: [1, 2, 3, 4]\n",
      "Tuple: (1, 2, 3)\n"
     ]
    }
   ],
   "source": [
    "def modify_args(mutable_arg, immutable_arg):\n",
    "    # Attempting to modify the mutable argument (list)\n",
    "    mutable_arg.append(4)\n",
    "    \n",
    "    # Attempting to modify the immutable argument (tuple)\n",
    "    try:\n",
    "        immutable_arg[0] = 10\n",
    "    except TypeError as e:\n",
    "        print(\"Error:\", e)  # This will raise an error because tuples are immutable\n",
    "\n",
    "# Creating a list and a tuple\n",
    "my_list = [1, 2, 3]\n",
    "my_tuple = (1, 2, 3)\n",
    "\n",
    "print(\"Before function call:\")\n",
    "print(\"List:\", my_list)  # Output: [1, 2, 3]\n",
    "print(\"Tuple:\", my_tuple)  # Output: (1, 2, 3)\n",
    "\n",
    "# Calling the function\n",
    "modify_args(my_list, my_tuple)\n",
    "\n",
    "print(\"\\nAfter function call:\")\n",
    "print(\"List:\", my_list)  # Output: [1, 2, 3, 4] - List is modified\n",
    "print(\"Tuple:\", my_tuple)  # Output: (1, 2, 3) - Tuple remains unchanged\n"
   ]
  },
  {
   "cell_type": "markdown",
   "id": "fca032e1-b4c5-436c-926e-73d46ba2eb84",
   "metadata": {},
   "source": [
    "## 7. Write a function to demonstrate the behavior of mutable and immutable arguments"
   ]
  },
  {
   "cell_type": "code",
   "execution_count": 28,
   "id": "62a12b61-493c-49b4-a152-0774adb2baeb",
   "metadata": {},
   "outputs": [
    {
     "name": "stdout",
     "output_type": "stream",
     "text": [
      "Before function call:\n",
      "List: [1, 2, 3]\n",
      "Tuple: (1, 2, 3)\n",
      "Error: 'tuple' object does not support item assignment\n",
      "\n",
      "After function call:\n",
      "List: [1, 2, 3, 4]\n",
      "Tuple: (1, 2, 3)\n"
     ]
    }
   ],
   "source": [
    "def modify_args(mutable_arg, immutable_arg):\n",
    "    # Attempting to modify the mutable argument (list)\n",
    "    mutable_arg.append(4)\n",
    "    \n",
    "    # Attempting to modify the immutable argument (tuple)\n",
    "    try:\n",
    "        immutable_arg[0] = 10\n",
    "    except TypeError as e:\n",
    "        print(\"Error:\", e)  # This will raise an error because tuples are immutable\n",
    "\n",
    "# Creating a list and a tuple\n",
    "my_list = [1, 2, 3]\n",
    "my_tuple = (1, 2, 3)\n",
    "\n",
    "print(\"Before function call:\")\n",
    "print(\"List:\", my_list)  # Output: [1, 2, 3]\n",
    "print(\"Tuple:\", my_tuple)  # Output: (1, 2, 3)\n",
    "\n",
    "# Calling the function\n",
    "modify_args(my_list, my_tuple)\n",
    "\n",
    "print(\"\\nAfter function call:\")\n",
    "print(\"List:\", my_list)  # Output: [1, 2, 3, 4] - List is modified\n",
    "print(\"Tuple:\", my_tuple)  # Output: (1, 2, 3) - Tuple remains unchanged"
   ]
  },
  {
   "cell_type": "markdown",
   "id": "cbfa1ca6-3d70-470d-a003-f4bc1d6d7f6d",
   "metadata": {},
   "source": [
    "## 8. Write a program to demonstrate the use of logical operators"
   ]
  },
  {
   "cell_type": "code",
   "execution_count": 29,
   "id": "ca173083-f466-40bb-9911-14150e362d72",
   "metadata": {},
   "outputs": [
    {
     "name": "stdin",
     "output_type": "stream",
     "text": [
      "Enter the value for a:  24\n",
      "Enter the value for b:  -1\n"
     ]
    },
    {
     "name": "stdout",
     "output_type": "stream",
     "text": [
      "a: 24, b: -1\n",
      "Either a or b is not a positive number.\n",
      "At least one of a or b is a positive number.\n",
      "a is a positive number.\n",
      "b is not a positive number.\n"
     ]
    }
   ],
   "source": [
    "# Function to demonstrate logical operators\n",
    "def logical_operators_demo(a, b):\n",
    "    print(f\"a: {a}, b: {b}\")\n",
    "    \n",
    "    # Using 'and' operator\n",
    "    if a > 0 and b > 0:\n",
    "        print(\"Both a and b are positive numbers.\")\n",
    "    else:\n",
    "        print(\"Either a or b is not a positive number.\")\n",
    "    \n",
    "    # Using 'or' operator\n",
    "    if a > 0 or b > 0:\n",
    "        print(\"At least one of a or b is a positive number.\")\n",
    "    else:\n",
    "        print(\"Neither a nor b is a positive number.\")\n",
    "    \n",
    "    # Using 'not' operator\n",
    "    if not a > 0:\n",
    "        print(\"a is not a positive number.\")\n",
    "    else:\n",
    "        print(\"a is a positive number.\")\n",
    "    if not b > 0:\n",
    "        print(\"b is not a positive number.\")\n",
    "    else:\n",
    "        print(\"b is a positive number.\")\n",
    "\n",
    "# Input values\n",
    "a = int(input(\"Enter the value for a: \"))\n",
    "b = int(input(\"Enter the value for b: \"))\n",
    "\n",
    "# Demonstrating logical operators\n",
    "logical_operators_demo(a, b)"
   ]
  },
  {
   "cell_type": "markdown",
   "id": "3014e839-1d97-47a6-b9df-8b2e35993a32",
   "metadata": {},
   "source": [
    "## 9. Write a Python program to convert user input from string to integer, float, and boolean types"
   ]
  },
  {
   "cell_type": "code",
   "execution_count": 30,
   "id": "7db135ea-15c9-4048-a92b-0df6c5a47adb",
   "metadata": {},
   "outputs": [
    {
     "name": "stdin",
     "output_type": "stream",
     "text": [
      "Enter any number : 34\n"
     ]
    },
    {
     "name": "stdout",
     "output_type": "stream",
     "text": [
      "<class 'int'>,34\n",
      "<class 'float'>,34.0\n",
      "<class 'bool'>,True\n"
     ]
    }
   ],
   "source": [
    "# User input to int:\n",
    "input_int = int(input(\"Enter any number :\"))\n",
    "\n",
    "# User input to float:\n",
    "\n",
    "input_float = float(input_int)\n",
    "\n",
    "#User input to boolean:\n",
    "\n",
    "if input_int == 0:\n",
    "    input_bool = False\n",
    "else:\n",
    "    input_bool = True\n",
    "\n",
    "print(f\"{type(input_int)},{input_int}\")\n",
    "print(f\"{type(input_float)},{input_float}\")\n",
    "print(f\"{type(input_bool)},{input_bool}\")"
   ]
  },
  {
   "cell_type": "markdown",
   "id": "aeabec4f-89f6-4b9a-aa6d-fe59e735af6e",
   "metadata": {},
   "source": [
    "## 10. Write code to demonstrate type casting with list elements"
   ]
  },
  {
   "cell_type": "code",
   "execution_count": 31,
   "id": "22c6ecfa-00f2-4021-9ad3-ec2a9ddbdbb4",
   "metadata": {},
   "outputs": [
    {
     "name": "stdout",
     "output_type": "stream",
     "text": [
      "[1, 2, 4, 1, 34]\n",
      "[1.0, 2.0, 4.5, 1.0, 34.0]\n",
      "['1', '2', '4.5', 'True', '34']\n"
     ]
    }
   ],
   "source": [
    "l = [1,2,4.5,True,\"34\"]\n",
    "int_list = []\n",
    "float_list = []\n",
    "str_list = []\n",
    "for i in l:\n",
    "    int_list.append(int(i))\n",
    "    float_list.append(float(i))\n",
    "    str_list.append(str(i))\n",
    "print(int_list)\n",
    "print(float_list)\n",
    "print(str_list)"
   ]
  },
  {
   "cell_type": "markdown",
   "id": "16ba8833-5d90-49cf-8ef0-c0d6e2b30204",
   "metadata": {},
   "source": [
    "## 11. Write a program that checks if a number is positive, negative, or zero"
   ]
  },
  {
   "cell_type": "code",
   "execution_count": 32,
   "id": "ea8e2139-e99a-409f-a7e0-b0af60c23c93",
   "metadata": {},
   "outputs": [
    {
     "name": "stdin",
     "output_type": "stream",
     "text": [
      "Enter a number 3\n"
     ]
    },
    {
     "name": "stdout",
     "output_type": "stream",
     "text": [
      "Given number is +ve\n"
     ]
    }
   ],
   "source": [
    "num = int(input(\"Enter a number\"))\n",
    "\n",
    "if(num >0):\n",
    "    print(\"Given number is +ve\")\n",
    "elif(num<0):\n",
    "    print(\"Given number is -ve\")\n",
    "else:\n",
    "    print(\"Given number is zero\")"
   ]
  },
  {
   "cell_type": "markdown",
   "id": "f82df85f-7b6a-443e-9ba4-ca7961a82709",
   "metadata": {},
   "source": [
    "## 12. Write a for loop to print numbers from 1 to 10"
   ]
  },
  {
   "cell_type": "code",
   "execution_count": 33,
   "id": "e22e9fdd-5505-4216-9d39-7650927e4c37",
   "metadata": {},
   "outputs": [
    {
     "name": "stdout",
     "output_type": "stream",
     "text": [
      "1\n",
      "2\n",
      "3\n",
      "4\n",
      "5\n",
      "6\n",
      "7\n",
      "8\n",
      "9\n",
      "10\n"
     ]
    }
   ],
   "source": [
    "for i in range(10):\n",
    "    print(i+1)"
   ]
  },
  {
   "cell_type": "markdown",
   "id": "d4651d32-fc6a-4287-9902-d3da16fbe427",
   "metadata": {},
   "source": [
    "## 13. Write a Python program to find the sum of all even numbers between 1 and 50"
   ]
  },
  {
   "cell_type": "code",
   "execution_count": 34,
   "id": "94d97ae3-65a0-4565-855f-e7411f4c551a",
   "metadata": {},
   "outputs": [
    {
     "name": "stdout",
     "output_type": "stream",
     "text": [
      "650\n"
     ]
    }
   ],
   "source": [
    "even_sum = 0\n",
    "for i in range(1,51):\n",
    "    if i%2==0:\n",
    "        even_sum +=i\n",
    "print(even_sum)#650"
   ]
  },
  {
   "cell_type": "markdown",
   "id": "553e926d-04d5-4648-9f09-973e92b1f162",
   "metadata": {},
   "source": [
    "## 14. Write a program to reverse a string using a while loop"
   ]
  },
  {
   "cell_type": "code",
   "execution_count": 35,
   "id": "b06319e7-6552-40b1-bf13-7d95be662b67",
   "metadata": {},
   "outputs": [
    {
     "name": "stdin",
     "output_type": "stream",
     "text": [
      "Enter any thing abcde\n"
     ]
    },
    {
     "name": "stdout",
     "output_type": "stream",
     "text": [
      "edcba\n"
     ]
    }
   ],
   "source": [
    "string = input(\"Enter any thing\")\n",
    "reverse_string =\"\"\n",
    "\n",
    "index = len(string)-1\n",
    "\n",
    "while index >=0:\n",
    "    reverse_string += string[index]\n",
    "    index-=1\n",
    "print(reverse_string)"
   ]
  },
  {
   "cell_type": "markdown",
   "id": "cfbd1ab5-98e5-4f8b-a5a9-d286c8b04d9b",
   "metadata": {},
   "source": [
    "## 15. Write a Python program to calculate the factorial of a number provided by the user using a while loop"
   ]
  },
  {
   "cell_type": "code",
   "execution_count": 36,
   "id": "c1f3d928-6965-4138-a4f0-c52ebc4b6040",
   "metadata": {},
   "outputs": [
    {
     "name": "stdin",
     "output_type": "stream",
     "text": [
      "Enter a number whose factorial you want : 5\n"
     ]
    },
    {
     "name": "stdout",
     "output_type": "stream",
     "text": [
      "120\n"
     ]
    }
   ],
   "source": [
    "num = int(input(\"Enter a number whose factorial you want :\"))\n",
    "fact = 1\n",
    "index = 1\n",
    "while index<=num:\n",
    "    fact*=index\n",
    "    index+=1\n",
    "print(fact)"
   ]
  },
  {
   "cell_type": "code",
   "execution_count": null,
   "id": "5851da5f-893e-4df5-b9dd-243731c67542",
   "metadata": {},
   "outputs": [],
   "source": []
  }
 ],
 "metadata": {
  "kernelspec": {
   "display_name": "Python 3 (ipykernel)",
   "language": "python",
   "name": "python3"
  },
  "language_info": {
   "codemirror_mode": {
    "name": "ipython",
    "version": 3
   },
   "file_extension": ".py",
   "mimetype": "text/x-python",
   "name": "python",
   "nbconvert_exporter": "python",
   "pygments_lexer": "ipython3",
   "version": "3.12.2"
  }
 },
 "nbformat": 4,
 "nbformat_minor": 5
}
